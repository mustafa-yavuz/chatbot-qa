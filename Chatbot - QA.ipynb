{
 "cells": [
  {
   "cell_type": "code",
   "execution_count": 31,
   "metadata": {},
   "outputs": [],
   "source": [
    "import pickle\n",
    "import numpy as np\n",
    "import pandas as pd\n",
    "\n",
    "from sklearn.feature_extraction.text import CountVectorizer\n",
    "from keras.preprocessing.text import Tokenizer\n",
    "from tensorflow.keras.preprocessing import text,sequence\n",
    "\n",
    "with open(\"chatbot_train.txt\", \"rb\") as f:   #list of tuples\n",
    "    train =  pickle.load(f)\n",
    "with open(\"chatbot_test.txt\", \"rb\") as f:   \n",
    "    test =  pickle.load(f)"
   ]
  },
  {
   "cell_type": "code",
   "execution_count": 2,
   "metadata": {},
   "outputs": [
    {
     "data": {
      "text/plain": [
       "10000"
      ]
     },
     "execution_count": 2,
     "metadata": {},
     "output_type": "execute_result"
    }
   ],
   "source": [
    "len(train)"
   ]
  },
  {
   "cell_type": "code",
   "execution_count": 3,
   "metadata": {},
   "outputs": [
    {
     "data": {
      "text/plain": [
       "1000"
      ]
     },
     "execution_count": 3,
     "metadata": {},
     "output_type": "execute_result"
    }
   ],
   "source": [
    "len(test)"
   ]
  },
  {
   "cell_type": "code",
   "execution_count": 4,
   "metadata": {},
   "outputs": [],
   "source": [
    "# Combining train and test data into a dataframe\n",
    "data = train + test\n",
    "\n",
    "df_dict = {\"story\":[' '.join(tp[0]) for tp in data],\"question\":[' '.join(tp[1]) for tp in data],\"answer\":[tp[2] for tp in data]}\n",
    "df = pd.DataFrame(df_dict)"
   ]
  },
  {
   "cell_type": "code",
   "execution_count": 5,
   "metadata": {},
   "outputs": [],
   "source": [
    "# corpus to find vocabulary \n",
    "corpus = []\n",
    "\n",
    "for i in range(len(data)):\n",
    "    whole_text = df['story'][i] +' '+ df['question'][i] +' '+ df['answer'][i]\n",
    "    corpus.append(whole_text)"
   ]
  },
  {
   "cell_type": "code",
   "execution_count": 6,
   "metadata": {},
   "outputs": [],
   "source": [
    "vectorizer = CountVectorizer(token_pattern = r\"(?u)\\b\\w\\w+\\b|!|\\?|\\\"|\\'|\\.\")\n",
    "X = vectorizer.fit_transform(corpus)"
   ]
  },
  {
   "cell_type": "code",
   "execution_count": 18,
   "metadata": {},
   "outputs": [
    {
     "data": {
      "text/plain": [
       "['mary',\n",
       " 'moved',\n",
       " 'to',\n",
       " 'the',\n",
       " 'bathroom',\n",
       " '.',\n",
       " 'sandra',\n",
       " 'journeyed',\n",
       " 'bedroom',\n",
       " 'is',\n",
       " 'in',\n",
       " 'hallway',\n",
       " '?',\n",
       " 'no',\n",
       " 'went',\n",
       " 'back',\n",
       " 'daniel',\n",
       " 'kitchen',\n",
       " 'office',\n",
       " 'picked',\n",
       " 'up',\n",
       " 'football',\n",
       " 'there',\n",
       " 'yes',\n",
       " 'john',\n",
       " 'travelled',\n",
       " 'garden',\n",
       " 'got',\n",
       " 'apple',\n",
       " 'put',\n",
       " 'down',\n",
       " 'grabbed',\n",
       " 'left',\n",
       " 'dropped',\n",
       " 'took',\n",
       " 'milk',\n",
       " 'discarded']"
      ]
     },
     "execution_count": 18,
     "metadata": {},
     "output_type": "execute_result"
    }
   ],
   "source": [
    "list(vectorizer.vocabulary_.keys())"
   ]
  },
  {
   "cell_type": "code",
   "execution_count": 19,
   "metadata": {},
   "outputs": [],
   "source": [
    "vocabulary = list(vectorizer.vocabulary_)"
   ]
  },
  {
   "cell_type": "code",
   "execution_count": 20,
   "metadata": {},
   "outputs": [
    {
     "data": {
      "text/plain": [
       "38"
      ]
     },
     "execution_count": 20,
     "metadata": {},
     "output_type": "execute_result"
    }
   ],
   "source": [
    "# adding a placeholder for when using keras pad_sequences\n",
    "\n",
    "vocab_len = len(vocabulary) + 1\n",
    "vocab_len"
   ]
  },
  {
   "cell_type": "code",
   "execution_count": null,
   "metadata": {},
   "outputs": [],
   "source": [
    "# can be used to create vocabulary\n",
    "\n",
    "#from tensorflow.keras.preprocessing import text, sequence\n",
    "\n",
    "#tokenizer = Tokenizer(filters=[])\n",
    "\n",
    "#for text in [df.story.values,df.question.values,df.answer.values]:\n",
    "#    tokenizer.fit_on_texts(text)"
   ]
  },
  {
   "cell_type": "code",
   "execution_count": 11,
   "metadata": {},
   "outputs": [],
   "source": [
    "# finding the maximum story length for padding seuqences\n",
    "\n",
    "max_story_len = max([len(tp[0]) for tp in data]) \n",
    "max_question_len = max([len(tp[1]) for tp in data]) "
   ]
  },
  {
   "cell_type": "code",
   "execution_count": null,
   "metadata": {},
   "outputs": [],
   "source": [
    "#np.argmax(np.array([len(tp[0]) for tp in data]))"
   ]
  },
  {
   "cell_type": "code",
   "execution_count": 12,
   "metadata": {},
   "outputs": [
    {
     "data": {
      "text/plain": [
       "156"
      ]
     },
     "execution_count": 12,
     "metadata": {},
     "output_type": "execute_result"
    }
   ],
   "source": [
    "max_story_len"
   ]
  },
  {
   "cell_type": "code",
   "execution_count": 13,
   "metadata": {},
   "outputs": [
    {
     "data": {
      "text/plain": [
       "6"
      ]
     },
     "execution_count": 13,
     "metadata": {},
     "output_type": "execute_result"
    }
   ],
   "source": [
    "max_question_len"
   ]
  },
  {
   "cell_type": "code",
   "execution_count": 21,
   "metadata": {},
   "outputs": [],
   "source": [
    "# integer encoding words\n",
    "tokenizer = Tokenizer(filters=[])\n",
    "tokenizer.fit_on_texts(vocabulary)"
   ]
  },
  {
   "cell_type": "code",
   "execution_count": 41,
   "metadata": {},
   "outputs": [],
   "source": [
    "word_index = tokenizer.word_index # lower-cased automatically"
   ]
  },
  {
   "cell_type": "code",
   "execution_count": 25,
   "metadata": {},
   "outputs": [],
   "source": [
    "train_dict = {\"story\":[' '.join(tp[0]) for tp in train],\"question\":[' '.join(tp[1]) for tp in train],\"answer\":[tp[2] for tp in train]}\n",
    "train_df = pd.DataFrame(train_dict)\n",
    "\n",
    "test_dict = {\"story\":[' '.join(tp[0]) for tp in test],\"question\":[' '.join(tp[1]) for tp in test],\"answer\":[tp[2] for tp in test]}\n",
    "test_df = pd.DataFrame(test_dict)"
   ]
  },
  {
   "cell_type": "code",
   "execution_count": 26,
   "metadata": {},
   "outputs": [
    {
     "data": {
      "text/html": [
       "<div>\n",
       "<style scoped>\n",
       "    .dataframe tbody tr th:only-of-type {\n",
       "        vertical-align: middle;\n",
       "    }\n",
       "\n",
       "    .dataframe tbody tr th {\n",
       "        vertical-align: top;\n",
       "    }\n",
       "\n",
       "    .dataframe thead th {\n",
       "        text-align: right;\n",
       "    }\n",
       "</style>\n",
       "<table border=\"1\" class=\"dataframe\">\n",
       "  <thead>\n",
       "    <tr style=\"text-align: right;\">\n",
       "      <th></th>\n",
       "      <th>story</th>\n",
       "      <th>question</th>\n",
       "      <th>answer</th>\n",
       "    </tr>\n",
       "  </thead>\n",
       "  <tbody>\n",
       "    <tr>\n",
       "      <td>0</td>\n",
       "      <td>Mary moved to the bathroom . Sandra journeyed ...</td>\n",
       "      <td>Is Sandra in the hallway ?</td>\n",
       "      <td>no</td>\n",
       "    </tr>\n",
       "    <tr>\n",
       "      <td>1</td>\n",
       "      <td>Mary moved to the bathroom . Sandra journeyed ...</td>\n",
       "      <td>Is Daniel in the bathroom ?</td>\n",
       "      <td>no</td>\n",
       "    </tr>\n",
       "    <tr>\n",
       "      <td>2</td>\n",
       "      <td>Mary moved to the bathroom . Sandra journeyed ...</td>\n",
       "      <td>Is Daniel in the office ?</td>\n",
       "      <td>no</td>\n",
       "    </tr>\n",
       "    <tr>\n",
       "      <td>3</td>\n",
       "      <td>Mary moved to the bathroom . Sandra journeyed ...</td>\n",
       "      <td>Is Daniel in the bedroom ?</td>\n",
       "      <td>yes</td>\n",
       "    </tr>\n",
       "    <tr>\n",
       "      <td>4</td>\n",
       "      <td>Mary moved to the bathroom . Sandra journeyed ...</td>\n",
       "      <td>Is Daniel in the bedroom ?</td>\n",
       "      <td>yes</td>\n",
       "    </tr>\n",
       "  </tbody>\n",
       "</table>\n",
       "</div>"
      ],
      "text/plain": [
       "                                               story  \\\n",
       "0  Mary moved to the bathroom . Sandra journeyed ...   \n",
       "1  Mary moved to the bathroom . Sandra journeyed ...   \n",
       "2  Mary moved to the bathroom . Sandra journeyed ...   \n",
       "3  Mary moved to the bathroom . Sandra journeyed ...   \n",
       "4  Mary moved to the bathroom . Sandra journeyed ...   \n",
       "\n",
       "                      question answer  \n",
       "0   Is Sandra in the hallway ?     no  \n",
       "1  Is Daniel in the bathroom ?     no  \n",
       "2    Is Daniel in the office ?     no  \n",
       "3   Is Daniel in the bedroom ?    yes  \n",
       "4   Is Daniel in the bedroom ?    yes  "
      ]
     },
     "execution_count": 26,
     "metadata": {},
     "output_type": "execute_result"
    }
   ],
   "source": [
    "train_df.head()"
   ]
  },
  {
   "cell_type": "code",
   "execution_count": 27,
   "metadata": {},
   "outputs": [
    {
     "data": {
      "text/html": [
       "<div>\n",
       "<style scoped>\n",
       "    .dataframe tbody tr th:only-of-type {\n",
       "        vertical-align: middle;\n",
       "    }\n",
       "\n",
       "    .dataframe tbody tr th {\n",
       "        vertical-align: top;\n",
       "    }\n",
       "\n",
       "    .dataframe thead th {\n",
       "        text-align: right;\n",
       "    }\n",
       "</style>\n",
       "<table border=\"1\" class=\"dataframe\">\n",
       "  <thead>\n",
       "    <tr style=\"text-align: right;\">\n",
       "      <th></th>\n",
       "      <th>story</th>\n",
       "      <th>question</th>\n",
       "      <th>answer</th>\n",
       "    </tr>\n",
       "  </thead>\n",
       "  <tbody>\n",
       "    <tr>\n",
       "      <td>0</td>\n",
       "      <td>Mary got the milk there . John moved to the be...</td>\n",
       "      <td>Is John in the kitchen ?</td>\n",
       "      <td>no</td>\n",
       "    </tr>\n",
       "    <tr>\n",
       "      <td>1</td>\n",
       "      <td>Mary got the milk there . John moved to the be...</td>\n",
       "      <td>Is John in the kitchen ?</td>\n",
       "      <td>no</td>\n",
       "    </tr>\n",
       "    <tr>\n",
       "      <td>2</td>\n",
       "      <td>Mary got the milk there . John moved to the be...</td>\n",
       "      <td>Is John in the garden ?</td>\n",
       "      <td>yes</td>\n",
       "    </tr>\n",
       "    <tr>\n",
       "      <td>3</td>\n",
       "      <td>Mary got the milk there . John moved to the be...</td>\n",
       "      <td>Is Daniel in the bathroom ?</td>\n",
       "      <td>yes</td>\n",
       "    </tr>\n",
       "    <tr>\n",
       "      <td>4</td>\n",
       "      <td>Mary got the milk there . John moved to the be...</td>\n",
       "      <td>Is Daniel in the bedroom ?</td>\n",
       "      <td>no</td>\n",
       "    </tr>\n",
       "  </tbody>\n",
       "</table>\n",
       "</div>"
      ],
      "text/plain": [
       "                                               story  \\\n",
       "0  Mary got the milk there . John moved to the be...   \n",
       "1  Mary got the milk there . John moved to the be...   \n",
       "2  Mary got the milk there . John moved to the be...   \n",
       "3  Mary got the milk there . John moved to the be...   \n",
       "4  Mary got the milk there . John moved to the be...   \n",
       "\n",
       "                      question answer  \n",
       "0     Is John in the kitchen ?     no  \n",
       "1     Is John in the kitchen ?     no  \n",
       "2      Is John in the garden ?    yes  \n",
       "3  Is Daniel in the bathroom ?    yes  \n",
       "4   Is Daniel in the bedroom ?     no  "
      ]
     },
     "execution_count": 27,
     "metadata": {},
     "output_type": "execute_result"
    }
   ],
   "source": [
    "test_df.head()"
   ]
  },
  {
   "cell_type": "code",
   "execution_count": 67,
   "metadata": {},
   "outputs": [],
   "source": [
    "def compute_story_and_questions(dframe, tokenizer):\n",
    "    \n",
    "    story = tokenizer.texts_to_sequences(dframe.story.values)\n",
    "    question = tokenizer.texts_to_sequences(dframe.question.values)\n",
    "\n",
    "    story = sequence.pad_sequences(story, maxlen=156)\n",
    "    question = sequence.pad_sequences(question, maxlen=6)\n",
    "    \n",
    "    return story, question"
   ]
  },
  {
   "cell_type": "code",
   "execution_count": 68,
   "metadata": {},
   "outputs": [],
   "source": [
    "inputs_train, questions_train = compute_story_and_questions(train_df,tokenizer)\n",
    "inputs_test, questions_test = compute_story_and_questions(test_df,tokenizer)"
   ]
  },
  {
   "cell_type": "code",
   "execution_count": 62,
   "metadata": {},
   "outputs": [],
   "source": [
    "def compute_answer(dframe):\n",
    "    \n",
    "    answers = []\n",
    "    \n",
    "    for yes_no in dframe.answer.values:\n",
    "        \n",
    "        y = np.zeros(len(word_index) + 1)    \n",
    "        y[word_index[yes_no]] = 1\n",
    "        answers.append(y)\n",
    "    \n",
    "    return answers"
   ]
  },
  {
   "cell_type": "code",
   "execution_count": 70,
   "metadata": {},
   "outputs": [],
   "source": [
    "answers_train = compute_answer(train_df)\n",
    "answers_test = compute_answer(test_df)"
   ]
  },
  {
   "cell_type": "code",
   "execution_count": 72,
   "metadata": {},
   "outputs": [
    {
     "data": {
      "text/plain": [
       "array([   0.,    0.,    0.,    0.,    0.,    0.,    0.,    0.,    0.,\n",
       "          0.,    0.,    0.,    0.,    0., 4988.,    0.,    0.,    0.,\n",
       "          0.,    0.,    0.,    0.,    0.,    0., 5012.,    0.,    0.,\n",
       "          0.,    0.,    0.,    0.,    0.,    0.,    0.,    0.,    0.,\n",
       "          0.,    0.])"
      ]
     },
     "execution_count": 72,
     "metadata": {},
     "output_type": "execute_result"
    }
   ],
   "source": [
    "sum(answers_train) # number of yes and no in training set"
   ]
  },
  {
   "cell_type": "code",
   "execution_count": null,
   "metadata": {},
   "outputs": [],
   "source": []
  }
 ],
 "metadata": {
  "kernelspec": {
   "display_name": "Python 3",
   "language": "python",
   "name": "python3"
  },
  "language_info": {
   "codemirror_mode": {
    "name": "ipython",
    "version": 3
   },
   "file_extension": ".py",
   "mimetype": "text/x-python",
   "name": "python",
   "nbconvert_exporter": "python",
   "pygments_lexer": "ipython3",
   "version": "3.7.4"
  }
 },
 "nbformat": 4,
 "nbformat_minor": 4
}
