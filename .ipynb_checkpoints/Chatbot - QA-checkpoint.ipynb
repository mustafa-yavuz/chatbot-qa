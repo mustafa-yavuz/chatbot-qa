{
 "cells": [
  {
   "cell_type": "code",
   "execution_count": 1,
   "metadata": {},
   "outputs": [
    {
     "name": "stderr",
     "output_type": "stream",
     "text": [
      "Using TensorFlow backend.\n"
     ]
    }
   ],
   "source": [
    "import pickle\n",
    "import numpy as np\n",
    "import pandas as pd\n",
    "import matplotlib.pyplot as plt\n",
    "%matplotlib inline\n",
    "\n",
    "from sklearn.feature_extraction.text import CountVectorizer\n",
    "from keras.preprocessing.text import Tokenizer\n",
    "from tensorflow.keras.preprocessing import text,sequence\n",
    "\n",
    "from keras.models import Sequential, Model\n",
    "from keras.layers.embeddings import Embedding\n",
    "from keras.layers import Input, Activation, Dense, Permute, Dropout\n",
    "from keras.layers import add, dot, concatenate\n",
    "from keras.layers import LSTM\n",
    "\n",
    "with open(\"chatbot_train.txt\", \"rb\") as f:   #list of tuples\n",
    "    train =  pickle.load(f)\n",
    "with open(\"chatbot_test.txt\", \"rb\") as f:   \n",
    "    test =  pickle.load(f)"
   ]
  },
  {
   "cell_type": "code",
   "execution_count": 2,
   "metadata": {},
   "outputs": [
    {
     "data": {
      "text/plain": [
       "10000"
      ]
     },
     "execution_count": 2,
     "metadata": {},
     "output_type": "execute_result"
    }
   ],
   "source": [
    "len(train)"
   ]
  },
  {
   "cell_type": "code",
   "execution_count": 3,
   "metadata": {},
   "outputs": [
    {
     "data": {
      "text/plain": [
       "1000"
      ]
     },
     "execution_count": 3,
     "metadata": {},
     "output_type": "execute_result"
    }
   ],
   "source": [
    "len(test)"
   ]
  },
  {
   "cell_type": "code",
   "execution_count": 4,
   "metadata": {},
   "outputs": [],
   "source": [
    "# Combining train and test data into a dataframe\n",
    "data = train + test\n",
    "\n",
    "df_dict = {\"story\":[' '.join(tp[0]) for tp in data],\"question\":[' '.join(tp[1]) for tp in data],\"answer\":[tp[2] for tp in data]}\n",
    "df = pd.DataFrame(df_dict)"
   ]
  },
  {
   "cell_type": "code",
   "execution_count": 5,
   "metadata": {},
   "outputs": [
    {
     "data": {
      "text/html": [
       "<div>\n",
       "<style scoped>\n",
       "    .dataframe tbody tr th:only-of-type {\n",
       "        vertical-align: middle;\n",
       "    }\n",
       "\n",
       "    .dataframe tbody tr th {\n",
       "        vertical-align: top;\n",
       "    }\n",
       "\n",
       "    .dataframe thead th {\n",
       "        text-align: right;\n",
       "    }\n",
       "</style>\n",
       "<table border=\"1\" class=\"dataframe\">\n",
       "  <thead>\n",
       "    <tr style=\"text-align: right;\">\n",
       "      <th></th>\n",
       "      <th>story</th>\n",
       "      <th>question</th>\n",
       "      <th>answer</th>\n",
       "    </tr>\n",
       "  </thead>\n",
       "  <tbody>\n",
       "    <tr>\n",
       "      <td>0</td>\n",
       "      <td>Mary moved to the bathroom . Sandra journeyed ...</td>\n",
       "      <td>Is Sandra in the hallway ?</td>\n",
       "      <td>no</td>\n",
       "    </tr>\n",
       "    <tr>\n",
       "      <td>1</td>\n",
       "      <td>Mary moved to the bathroom . Sandra journeyed ...</td>\n",
       "      <td>Is Daniel in the bathroom ?</td>\n",
       "      <td>no</td>\n",
       "    </tr>\n",
       "    <tr>\n",
       "      <td>2</td>\n",
       "      <td>Mary moved to the bathroom . Sandra journeyed ...</td>\n",
       "      <td>Is Daniel in the office ?</td>\n",
       "      <td>no</td>\n",
       "    </tr>\n",
       "    <tr>\n",
       "      <td>3</td>\n",
       "      <td>Mary moved to the bathroom . Sandra journeyed ...</td>\n",
       "      <td>Is Daniel in the bedroom ?</td>\n",
       "      <td>yes</td>\n",
       "    </tr>\n",
       "    <tr>\n",
       "      <td>4</td>\n",
       "      <td>Mary moved to the bathroom . Sandra journeyed ...</td>\n",
       "      <td>Is Daniel in the bedroom ?</td>\n",
       "      <td>yes</td>\n",
       "    </tr>\n",
       "  </tbody>\n",
       "</table>\n",
       "</div>"
      ],
      "text/plain": [
       "                                               story  \\\n",
       "0  Mary moved to the bathroom . Sandra journeyed ...   \n",
       "1  Mary moved to the bathroom . Sandra journeyed ...   \n",
       "2  Mary moved to the bathroom . Sandra journeyed ...   \n",
       "3  Mary moved to the bathroom . Sandra journeyed ...   \n",
       "4  Mary moved to the bathroom . Sandra journeyed ...   \n",
       "\n",
       "                      question answer  \n",
       "0   Is Sandra in the hallway ?     no  \n",
       "1  Is Daniel in the bathroom ?     no  \n",
       "2    Is Daniel in the office ?     no  \n",
       "3   Is Daniel in the bedroom ?    yes  \n",
       "4   Is Daniel in the bedroom ?    yes  "
      ]
     },
     "execution_count": 5,
     "metadata": {},
     "output_type": "execute_result"
    }
   ],
   "source": [
    "df.head()"
   ]
  },
  {
   "cell_type": "code",
   "execution_count": 6,
   "metadata": {},
   "outputs": [],
   "source": [
    "# corpus to find vocabulary \n",
    "corpus = []\n",
    "\n",
    "for i in range(len(data)):\n",
    "    whole_text = df['story'][i] +' '+ df['question'][i] +' '+ df['answer'][i]\n",
    "    corpus.append(whole_text)"
   ]
  },
  {
   "cell_type": "code",
   "execution_count": 7,
   "metadata": {},
   "outputs": [],
   "source": [
    "vectorizer = CountVectorizer(token_pattern = r\"(?u)\\b\\w\\w+\\b|!|\\?|\\\"|\\'|\\.\")\n",
    "X = vectorizer.fit_transform(corpus)"
   ]
  },
  {
   "cell_type": "code",
   "execution_count": 8,
   "metadata": {},
   "outputs": [
    {
     "data": {
      "text/plain": [
       "['mary',\n",
       " 'moved',\n",
       " 'to',\n",
       " 'the',\n",
       " 'bathroom',\n",
       " '.',\n",
       " 'sandra',\n",
       " 'journeyed',\n",
       " 'bedroom',\n",
       " 'is',\n",
       " 'in',\n",
       " 'hallway',\n",
       " '?',\n",
       " 'no',\n",
       " 'went',\n",
       " 'back',\n",
       " 'daniel',\n",
       " 'kitchen',\n",
       " 'office',\n",
       " 'picked',\n",
       " 'up',\n",
       " 'football',\n",
       " 'there',\n",
       " 'yes',\n",
       " 'john',\n",
       " 'travelled',\n",
       " 'garden',\n",
       " 'got',\n",
       " 'apple',\n",
       " 'put',\n",
       " 'down',\n",
       " 'grabbed',\n",
       " 'left',\n",
       " 'dropped',\n",
       " 'took',\n",
       " 'milk',\n",
       " 'discarded']"
      ]
     },
     "execution_count": 8,
     "metadata": {},
     "output_type": "execute_result"
    }
   ],
   "source": [
    "list(vectorizer.vocabulary_.keys())"
   ]
  },
  {
   "cell_type": "code",
   "execution_count": 9,
   "metadata": {},
   "outputs": [],
   "source": [
    "vocabulary = list(vectorizer.vocabulary_)"
   ]
  },
  {
   "cell_type": "code",
   "execution_count": 10,
   "metadata": {},
   "outputs": [
    {
     "data": {
      "text/plain": [
       "38"
      ]
     },
     "execution_count": 10,
     "metadata": {},
     "output_type": "execute_result"
    }
   ],
   "source": [
    "# adding a placeholder for when using keras pad_sequences\n",
    "\n",
    "vocab_len = len(vocabulary) + 1\n",
    "vocab_len"
   ]
  },
  {
   "cell_type": "code",
   "execution_count": 11,
   "metadata": {},
   "outputs": [],
   "source": [
    "# can be used to create vocabulary\n",
    "\n",
    "#from tensorflow.keras.preprocessing import text, sequence\n",
    "\n",
    "#tokenizer = Tokenizer(filters=[])\n",
    "\n",
    "#for text in [df.story.values,df.question.values,df.answer.values]:\n",
    "#    tokenizer.fit_on_texts(text)"
   ]
  },
  {
   "cell_type": "code",
   "execution_count": 12,
   "metadata": {},
   "outputs": [],
   "source": [
    "# finding the maximum story length for padding seuqences\n",
    "\n",
    "max_story_len = max([len(tp[0]) for tp in data]) \n",
    "max_question_len = max([len(tp[1]) for tp in data]) "
   ]
  },
  {
   "cell_type": "code",
   "execution_count": 13,
   "metadata": {},
   "outputs": [],
   "source": [
    "#np.argmax(np.array([len(tp[0]) for tp in data]))"
   ]
  },
  {
   "cell_type": "code",
   "execution_count": 14,
   "metadata": {},
   "outputs": [
    {
     "data": {
      "text/plain": [
       "156"
      ]
     },
     "execution_count": 14,
     "metadata": {},
     "output_type": "execute_result"
    }
   ],
   "source": [
    "max_story_len"
   ]
  },
  {
   "cell_type": "code",
   "execution_count": 15,
   "metadata": {},
   "outputs": [
    {
     "data": {
      "text/plain": [
       "6"
      ]
     },
     "execution_count": 15,
     "metadata": {},
     "output_type": "execute_result"
    }
   ],
   "source": [
    "max_question_len"
   ]
  },
  {
   "cell_type": "code",
   "execution_count": 16,
   "metadata": {},
   "outputs": [],
   "source": [
    "# integer encoding words\n",
    "tokenizer = Tokenizer(filters=[])\n",
    "tokenizer.fit_on_texts(vocabulary)"
   ]
  },
  {
   "cell_type": "code",
   "execution_count": 17,
   "metadata": {},
   "outputs": [],
   "source": [
    "word_index = tokenizer.word_index # lower-cased automatically"
   ]
  },
  {
   "cell_type": "code",
   "execution_count": 18,
   "metadata": {},
   "outputs": [],
   "source": [
    "train_dict = {\"story\":[' '.join(tp[0]) for tp in train],\"question\":[' '.join(tp[1]) for tp in train],\"answer\":[tp[2] for tp in train]}\n",
    "train_df = pd.DataFrame(train_dict)\n",
    "\n",
    "test_dict = {\"story\":[' '.join(tp[0]) for tp in test],\"question\":[' '.join(tp[1]) for tp in test],\"answer\":[tp[2] for tp in test]}\n",
    "test_df = pd.DataFrame(test_dict)"
   ]
  },
  {
   "cell_type": "code",
   "execution_count": 19,
   "metadata": {},
   "outputs": [
    {
     "data": {
      "text/html": [
       "<div>\n",
       "<style scoped>\n",
       "    .dataframe tbody tr th:only-of-type {\n",
       "        vertical-align: middle;\n",
       "    }\n",
       "\n",
       "    .dataframe tbody tr th {\n",
       "        vertical-align: top;\n",
       "    }\n",
       "\n",
       "    .dataframe thead th {\n",
       "        text-align: right;\n",
       "    }\n",
       "</style>\n",
       "<table border=\"1\" class=\"dataframe\">\n",
       "  <thead>\n",
       "    <tr style=\"text-align: right;\">\n",
       "      <th></th>\n",
       "      <th>story</th>\n",
       "      <th>question</th>\n",
       "      <th>answer</th>\n",
       "    </tr>\n",
       "  </thead>\n",
       "  <tbody>\n",
       "    <tr>\n",
       "      <td>0</td>\n",
       "      <td>Mary moved to the bathroom . Sandra journeyed ...</td>\n",
       "      <td>Is Sandra in the hallway ?</td>\n",
       "      <td>no</td>\n",
       "    </tr>\n",
       "    <tr>\n",
       "      <td>1</td>\n",
       "      <td>Mary moved to the bathroom . Sandra journeyed ...</td>\n",
       "      <td>Is Daniel in the bathroom ?</td>\n",
       "      <td>no</td>\n",
       "    </tr>\n",
       "    <tr>\n",
       "      <td>2</td>\n",
       "      <td>Mary moved to the bathroom . Sandra journeyed ...</td>\n",
       "      <td>Is Daniel in the office ?</td>\n",
       "      <td>no</td>\n",
       "    </tr>\n",
       "    <tr>\n",
       "      <td>3</td>\n",
       "      <td>Mary moved to the bathroom . Sandra journeyed ...</td>\n",
       "      <td>Is Daniel in the bedroom ?</td>\n",
       "      <td>yes</td>\n",
       "    </tr>\n",
       "    <tr>\n",
       "      <td>4</td>\n",
       "      <td>Mary moved to the bathroom . Sandra journeyed ...</td>\n",
       "      <td>Is Daniel in the bedroom ?</td>\n",
       "      <td>yes</td>\n",
       "    </tr>\n",
       "  </tbody>\n",
       "</table>\n",
       "</div>"
      ],
      "text/plain": [
       "                                               story  \\\n",
       "0  Mary moved to the bathroom . Sandra journeyed ...   \n",
       "1  Mary moved to the bathroom . Sandra journeyed ...   \n",
       "2  Mary moved to the bathroom . Sandra journeyed ...   \n",
       "3  Mary moved to the bathroom . Sandra journeyed ...   \n",
       "4  Mary moved to the bathroom . Sandra journeyed ...   \n",
       "\n",
       "                      question answer  \n",
       "0   Is Sandra in the hallway ?     no  \n",
       "1  Is Daniel in the bathroom ?     no  \n",
       "2    Is Daniel in the office ?     no  \n",
       "3   Is Daniel in the bedroom ?    yes  \n",
       "4   Is Daniel in the bedroom ?    yes  "
      ]
     },
     "execution_count": 19,
     "metadata": {},
     "output_type": "execute_result"
    }
   ],
   "source": [
    "train_df.head()"
   ]
  },
  {
   "cell_type": "code",
   "execution_count": 20,
   "metadata": {},
   "outputs": [
    {
     "data": {
      "text/html": [
       "<div>\n",
       "<style scoped>\n",
       "    .dataframe tbody tr th:only-of-type {\n",
       "        vertical-align: middle;\n",
       "    }\n",
       "\n",
       "    .dataframe tbody tr th {\n",
       "        vertical-align: top;\n",
       "    }\n",
       "\n",
       "    .dataframe thead th {\n",
       "        text-align: right;\n",
       "    }\n",
       "</style>\n",
       "<table border=\"1\" class=\"dataframe\">\n",
       "  <thead>\n",
       "    <tr style=\"text-align: right;\">\n",
       "      <th></th>\n",
       "      <th>story</th>\n",
       "      <th>question</th>\n",
       "      <th>answer</th>\n",
       "    </tr>\n",
       "  </thead>\n",
       "  <tbody>\n",
       "    <tr>\n",
       "      <td>0</td>\n",
       "      <td>Mary got the milk there . John moved to the be...</td>\n",
       "      <td>Is John in the kitchen ?</td>\n",
       "      <td>no</td>\n",
       "    </tr>\n",
       "    <tr>\n",
       "      <td>1</td>\n",
       "      <td>Mary got the milk there . John moved to the be...</td>\n",
       "      <td>Is John in the kitchen ?</td>\n",
       "      <td>no</td>\n",
       "    </tr>\n",
       "    <tr>\n",
       "      <td>2</td>\n",
       "      <td>Mary got the milk there . John moved to the be...</td>\n",
       "      <td>Is John in the garden ?</td>\n",
       "      <td>yes</td>\n",
       "    </tr>\n",
       "    <tr>\n",
       "      <td>3</td>\n",
       "      <td>Mary got the milk there . John moved to the be...</td>\n",
       "      <td>Is Daniel in the bathroom ?</td>\n",
       "      <td>yes</td>\n",
       "    </tr>\n",
       "    <tr>\n",
       "      <td>4</td>\n",
       "      <td>Mary got the milk there . John moved to the be...</td>\n",
       "      <td>Is Daniel in the bedroom ?</td>\n",
       "      <td>no</td>\n",
       "    </tr>\n",
       "  </tbody>\n",
       "</table>\n",
       "</div>"
      ],
      "text/plain": [
       "                                               story  \\\n",
       "0  Mary got the milk there . John moved to the be...   \n",
       "1  Mary got the milk there . John moved to the be...   \n",
       "2  Mary got the milk there . John moved to the be...   \n",
       "3  Mary got the milk there . John moved to the be...   \n",
       "4  Mary got the milk there . John moved to the be...   \n",
       "\n",
       "                      question answer  \n",
       "0     Is John in the kitchen ?     no  \n",
       "1     Is John in the kitchen ?     no  \n",
       "2      Is John in the garden ?    yes  \n",
       "3  Is Daniel in the bathroom ?    yes  \n",
       "4   Is Daniel in the bedroom ?     no  "
      ]
     },
     "execution_count": 20,
     "metadata": {},
     "output_type": "execute_result"
    }
   ],
   "source": [
    "test_df.head()"
   ]
  },
  {
   "cell_type": "code",
   "execution_count": 21,
   "metadata": {},
   "outputs": [],
   "source": [
    "def compute_story_and_questions(dframe, tokenizer):\n",
    "    \n",
    "    story = tokenizer.texts_to_sequences(dframe.story.values)\n",
    "    question = tokenizer.texts_to_sequences(dframe.question.values)\n",
    "\n",
    "    story = sequence.pad_sequences(story, maxlen=156)\n",
    "    question = sequence.pad_sequences(question, maxlen=6)\n",
    "    \n",
    "    return story, question"
   ]
  },
  {
   "cell_type": "code",
   "execution_count": 22,
   "metadata": {},
   "outputs": [],
   "source": [
    "inputs_train, questions_train = compute_story_and_questions(train_df,tokenizer)\n",
    "inputs_test, questions_test = compute_story_and_questions(test_df,tokenizer)"
   ]
  },
  {
   "cell_type": "code",
   "execution_count": 23,
   "metadata": {},
   "outputs": [],
   "source": [
    "def compute_answer(dframe):\n",
    "    \n",
    "    answers = []\n",
    "    \n",
    "    for yes_no in dframe.answer.values:\n",
    "        \n",
    "        y = np.zeros(len(word_index) + 1)    \n",
    "        y[word_index[yes_no]] = 1\n",
    "        answers.append(y)\n",
    "    \n",
    "    return np.array(answers)"
   ]
  },
  {
   "cell_type": "code",
   "execution_count": 24,
   "metadata": {},
   "outputs": [],
   "source": [
    "answers_train = compute_answer(train_df)\n",
    "answers_test = compute_answer(test_df)"
   ]
  },
  {
   "cell_type": "code",
   "execution_count": 25,
   "metadata": {},
   "outputs": [
    {
     "data": {
      "text/plain": [
       "array([   0.,    0.,    0.,    0.,    0.,    0.,    0.,    0.,    0.,\n",
       "          0.,    0.,    0.,    0.,    0., 4988.,    0.,    0.,    0.,\n",
       "          0.,    0.,    0.,    0.,    0.,    0., 5012.,    0.,    0.,\n",
       "          0.,    0.,    0.,    0.,    0.,    0.,    0.,    0.,    0.,\n",
       "          0.,    0.])"
      ]
     },
     "execution_count": 25,
     "metadata": {},
     "output_type": "execute_result"
    }
   ],
   "source": [
    "sum(answers_train) # number of yes and no in training set"
   ]
  },
  {
   "cell_type": "code",
   "execution_count": 26,
   "metadata": {},
   "outputs": [],
   "source": [
    "# 2 inputs ( story and question ) \n",
    "# creating placeholders for inputs\n",
    "\n",
    "input_sequence = Input(shape = (max_story_len,))\n",
    "input_question = Input(shape = (max_question_len,))"
   ]
  },
  {
   "cell_type": "code",
   "execution_count": 27,
   "metadata": {},
   "outputs": [],
   "source": [
    "# creating input encoders m, c and question encoder\n",
    "\n",
    "# output of input_encoder_m in the format of (batch_size, 156, 64)\n",
    "encoder_m = Sequential()\n",
    "encoder_m.add(Embedding(input_dim=vocab_len,output_dim=64,input_length=156))\n",
    "encoder_m.add(Dropout(0.3))\n",
    "\n",
    "# output of input_encoder_m in the format of (batch_size, 156, 6)\n",
    "encoder_c = Sequential()\n",
    "encoder_c.add(Embedding(input_dim=vocab_len,output_dim=6,input_length=156))\n",
    "encoder_c.add(Dropout(0.3))\n",
    "\n",
    "# output of input_encoder_m in the format of (batch_size, 6, 64)\n",
    "question_encoder = Sequential()\n",
    "question_encoder.add(Embedding(input_dim=vocab_len,output_dim=64,input_length=6))\n",
    "question_encoder.add(Dropout(0.3))"
   ]
  },
  {
   "cell_type": "code",
   "execution_count": 28,
   "metadata": {},
   "outputs": [],
   "source": [
    "# encoding sequences\n",
    "\n",
    "# passing place holders through encoders\n",
    "result_m = encoder_m(input_sequence) \n",
    "result_c = encoder_c(input_sequence)\n",
    "result_q = question_encoder(input_question)\n",
    "\n",
    "dt = dot([result_m, result_q], axes=(2, 2))\n",
    "p = Activation('softmax')(dt)\n",
    "\n",
    "# adding the p matrix with the input vector c sequence\n",
    "o = add([p, result_c])  # (samples, 156, 6)\n",
    "o = Permute((2, 1))(o)  # (samples, 6, 156)\n",
    "\n",
    "# concatenating the o matrix with the question vector sequence\n",
    "W = concatenate([o,result_q])"
   ]
  },
  {
   "cell_type": "code",
   "execution_count": 29,
   "metadata": {},
   "outputs": [],
   "source": [
    "# reducing W with RNN (LSTM)\n",
    "W = LSTM(32)(W)  \n",
    "\n",
    "# Regularization \n",
    "W = Dropout(0.5)(W)\n",
    "W = Dense(vocab_len)(W)  # (batch_size, vocab_size)\n",
    "\n",
    "# outputing a probability distribution over the vocabulary\n",
    "W = Activation('softmax')(W)"
   ]
  },
  {
   "cell_type": "code",
   "execution_count": 30,
   "metadata": {},
   "outputs": [],
   "source": [
    "# building the model\n",
    "model = Model([input_sequence, input_question], outputs = W)\n",
    "model.compile(optimizer='rmsprop', loss='categorical_crossentropy',\n",
    "              metrics=['accuracy'])"
   ]
  },
  {
   "cell_type": "code",
   "execution_count": 31,
   "metadata": {},
   "outputs": [
    {
     "name": "stdout",
     "output_type": "stream",
     "text": [
      "Model: \"model_1\"\n",
      "__________________________________________________________________________________________________\n",
      "Layer (type)                    Output Shape         Param #     Connected to                     \n",
      "==================================================================================================\n",
      "input_1 (InputLayer)            (None, 156)          0                                            \n",
      "__________________________________________________________________________________________________\n",
      "input_2 (InputLayer)            (None, 6)            0                                            \n",
      "__________________________________________________________________________________________________\n",
      "sequential_1 (Sequential)       (None, 156, 64)      2432        input_1[0][0]                    \n",
      "__________________________________________________________________________________________________\n",
      "sequential_3 (Sequential)       (None, 6, 64)        2432        input_2[0][0]                    \n",
      "__________________________________________________________________________________________________\n",
      "dot_1 (Dot)                     (None, 156, 6)       0           sequential_1[1][0]               \n",
      "                                                                 sequential_3[1][0]               \n",
      "__________________________________________________________________________________________________\n",
      "activation_1 (Activation)       (None, 156, 6)       0           dot_1[0][0]                      \n",
      "__________________________________________________________________________________________________\n",
      "sequential_2 (Sequential)       (None, 156, 6)       228         input_1[0][0]                    \n",
      "__________________________________________________________________________________________________\n",
      "add_1 (Add)                     (None, 156, 6)       0           activation_1[0][0]               \n",
      "                                                                 sequential_2[1][0]               \n",
      "__________________________________________________________________________________________________\n",
      "permute_1 (Permute)             (None, 6, 156)       0           add_1[0][0]                      \n",
      "__________________________________________________________________________________________________\n",
      "concatenate_1 (Concatenate)     (None, 6, 220)       0           permute_1[0][0]                  \n",
      "                                                                 sequential_3[1][0]               \n",
      "__________________________________________________________________________________________________\n",
      "lstm_1 (LSTM)                   (None, 32)           32384       concatenate_1[0][0]              \n",
      "__________________________________________________________________________________________________\n",
      "dropout_4 (Dropout)             (None, 32)           0           lstm_1[0][0]                     \n",
      "__________________________________________________________________________________________________\n",
      "dense_1 (Dense)                 (None, 38)           1254        dropout_4[0][0]                  \n",
      "__________________________________________________________________________________________________\n",
      "activation_2 (Activation)       (None, 38)           0           dense_1[0][0]                    \n",
      "==================================================================================================\n",
      "Total params: 38,730\n",
      "Trainable params: 38,730\n",
      "Non-trainable params: 0\n",
      "__________________________________________________________________________________________________\n"
     ]
    }
   ],
   "source": [
    "model.summary()"
   ]
  },
  {
   "cell_type": "code",
   "execution_count": 32,
   "metadata": {},
   "outputs": [
    {
     "name": "stderr",
     "output_type": "stream",
     "text": [
      "C:\\Users\\WorkPC\\Anaconda3\\lib\\site-packages\\tensorflow_core\\python\\framework\\indexed_slices.py:433: UserWarning: Converting sparse IndexedSlices to a dense Tensor of unknown shape. This may consume a large amount of memory.\n",
      "  \"Converting sparse IndexedSlices to a dense Tensor of unknown shape. \"\n"
     ]
    },
    {
     "name": "stdout",
     "output_type": "stream",
     "text": [
      "Train on 10000 samples, validate on 1000 samples\n",
      "Epoch 1/100\n",
      "10000/10000 [==============================] - 4s 440us/step - loss: 0.9237 - accuracy: 0.5012 - val_loss: 0.7031 - val_accuracy: 0.4970\n",
      "Epoch 2/100\n",
      "10000/10000 [==============================] - 3s 328us/step - loss: 0.7044 - accuracy: 0.4959 - val_loss: 0.6933 - val_accuracy: 0.5030\n",
      "Epoch 3/100\n",
      "10000/10000 [==============================] - 3s 327us/step - loss: 0.6959 - accuracy: 0.5039 - val_loss: 0.6933 - val_accuracy: 0.5030\n",
      "Epoch 4/100\n",
      "10000/10000 [==============================] - 3s 329us/step - loss: 0.6958 - accuracy: 0.4897 - val_loss: 0.6932 - val_accuracy: 0.4970\n",
      "Epoch 5/100\n",
      "10000/10000 [==============================] - 3s 329us/step - loss: 0.6948 - accuracy: 0.4967 - val_loss: 0.6933 - val_accuracy: 0.4970\n",
      "Epoch 6/100\n",
      "10000/10000 [==============================] - 3s 330us/step - loss: 0.6944 - accuracy: 0.4998 - val_loss: 0.6936 - val_accuracy: 0.5030\n",
      "Epoch 7/100\n",
      "10000/10000 [==============================] - 3s 329us/step - loss: 0.6943 - accuracy: 0.5014 - val_loss: 0.6937 - val_accuracy: 0.5030\n",
      "Epoch 8/100\n",
      "10000/10000 [==============================] - 3s 329us/step - loss: 0.6947 - accuracy: 0.4959 - val_loss: 0.6952 - val_accuracy: 0.4970\n",
      "Epoch 9/100\n",
      "10000/10000 [==============================] - 3s 334us/step - loss: 0.6947 - accuracy: 0.4969 - val_loss: 0.6935 - val_accuracy: 0.5030\n",
      "Epoch 10/100\n",
      "10000/10000 [==============================] - 4s 362us/step - loss: 0.6944 - accuracy: 0.4939 - val_loss: 0.6947 - val_accuracy: 0.5030\n",
      "Epoch 11/100\n",
      "10000/10000 [==============================] - 4s 363us/step - loss: 0.6938 - accuracy: 0.5027 - val_loss: 0.6938 - val_accuracy: 0.4970\n",
      "Epoch 12/100\n",
      "10000/10000 [==============================] - 4s 358us/step - loss: 0.6942 - accuracy: 0.4923 - val_loss: 0.6939 - val_accuracy: 0.4730\n",
      "Epoch 13/100\n",
      "10000/10000 [==============================] - 4s 358us/step - loss: 0.6942 - accuracy: 0.4987 - val_loss: 0.6957 - val_accuracy: 0.4970\n",
      "Epoch 14/100\n",
      "10000/10000 [==============================] - 4s 357us/step - loss: 0.6937 - accuracy: 0.5024 - val_loss: 0.6949 - val_accuracy: 0.4980\n",
      "Epoch 15/100\n",
      "10000/10000 [==============================] - 4s 357us/step - loss: 0.6821 - accuracy: 0.5559 - val_loss: 0.6546 - val_accuracy: 0.5980\n",
      "Epoch 16/100\n",
      "10000/10000 [==============================] - 4s 358us/step - loss: 0.5581 - accuracy: 0.7357 - val_loss: 0.4621 - val_accuracy: 0.8030\n",
      "Epoch 17/100\n",
      "10000/10000 [==============================] - 4s 357us/step - loss: 0.4525 - accuracy: 0.8090 - val_loss: 0.4156 - val_accuracy: 0.8150\n",
      "Epoch 18/100\n",
      "10000/10000 [==============================] - 4s 359us/step - loss: 0.4189 - accuracy: 0.8283 - val_loss: 0.4005 - val_accuracy: 0.8320\n",
      "Epoch 19/100\n",
      "10000/10000 [==============================] - 4s 359us/step - loss: 0.3910 - accuracy: 0.8424 - val_loss: 0.3906 - val_accuracy: 0.8320\n",
      "Epoch 20/100\n",
      "10000/10000 [==============================] - 4s 361us/step - loss: 0.3825 - accuracy: 0.8433 - val_loss: 0.3847 - val_accuracy: 0.8300\n",
      "Epoch 21/100\n",
      "10000/10000 [==============================] - 4s 359us/step - loss: 0.3666 - accuracy: 0.8488 - val_loss: 0.3788 - val_accuracy: 0.8340\n",
      "Epoch 22/100\n",
      "10000/10000 [==============================] - 4s 359us/step - loss: 0.3556 - accuracy: 0.8556 - val_loss: 0.3778 - val_accuracy: 0.8360\n",
      "Epoch 23/100\n",
      "10000/10000 [==============================] - 4s 359us/step - loss: 0.3537 - accuracy: 0.8530 - val_loss: 0.3599 - val_accuracy: 0.8480\n",
      "Epoch 24/100\n",
      "10000/10000 [==============================] - 4s 360us/step - loss: 0.3441 - accuracy: 0.8551 - val_loss: 0.3648 - val_accuracy: 0.8360\n",
      "Epoch 25/100\n",
      "10000/10000 [==============================] - 4s 359us/step - loss: 0.3384 - accuracy: 0.8547 - val_loss: 0.3623 - val_accuracy: 0.8300\n",
      "Epoch 26/100\n",
      "10000/10000 [==============================] - 4s 358us/step - loss: 0.3285 - accuracy: 0.8635 - val_loss: 0.3543 - val_accuracy: 0.8320\n",
      "Epoch 27/100\n",
      "10000/10000 [==============================] - 4s 360us/step - loss: 0.3277 - accuracy: 0.8595 - val_loss: 0.3476 - val_accuracy: 0.8460\n",
      "Epoch 28/100\n",
      "10000/10000 [==============================] - 4s 359us/step - loss: 0.3228 - accuracy: 0.8589 - val_loss: 0.3388 - val_accuracy: 0.8430\n",
      "Epoch 29/100\n",
      "10000/10000 [==============================] - 4s 362us/step - loss: 0.3195 - accuracy: 0.8619 - val_loss: 0.3410 - val_accuracy: 0.8420\n",
      "Epoch 30/100\n",
      "10000/10000 [==============================] - 4s 359us/step - loss: 0.3156 - accuracy: 0.8645 - val_loss: 0.3375 - val_accuracy: 0.8480\n",
      "Epoch 31/100\n",
      "10000/10000 [==============================] - 4s 356us/step - loss: 0.3118 - accuracy: 0.8620 - val_loss: 0.3346 - val_accuracy: 0.8540\n",
      "Epoch 32/100\n",
      "10000/10000 [==============================] - 4s 358us/step - loss: 0.3081 - accuracy: 0.8645 - val_loss: 0.3337 - val_accuracy: 0.8470\n",
      "Epoch 33/100\n",
      "10000/10000 [==============================] - 4s 362us/step - loss: 0.3045 - accuracy: 0.8661 - val_loss: 0.3305 - val_accuracy: 0.8480\n",
      "Epoch 34/100\n",
      "10000/10000 [==============================] - 4s 360us/step - loss: 0.3027 - accuracy: 0.8668 - val_loss: 0.3354 - val_accuracy: 0.8470\n",
      "Epoch 35/100\n",
      "10000/10000 [==============================] - 4s 362us/step - loss: 0.3020 - accuracy: 0.8657 - val_loss: 0.3369 - val_accuracy: 0.8400\n",
      "Epoch 36/100\n",
      "10000/10000 [==============================] - 4s 361us/step - loss: 0.2983 - accuracy: 0.8672 - val_loss: 0.3361 - val_accuracy: 0.8440\n",
      "Epoch 37/100\n",
      "10000/10000 [==============================] - 4s 361us/step - loss: 0.3002 - accuracy: 0.8675 - val_loss: 0.3444 - val_accuracy: 0.8450\n",
      "Epoch 38/100\n",
      "10000/10000 [==============================] - 4s 363us/step - loss: 0.2996 - accuracy: 0.8675 - val_loss: 0.3318 - val_accuracy: 0.8400\n",
      "Epoch 39/100\n",
      "10000/10000 [==============================] - 4s 362us/step - loss: 0.2976 - accuracy: 0.8662 - val_loss: 0.3321 - val_accuracy: 0.8420\n",
      "Epoch 40/100\n",
      "10000/10000 [==============================] - 4s 359us/step - loss: 0.2980 - accuracy: 0.8690 - val_loss: 0.3260 - val_accuracy: 0.8490\n",
      "Epoch 41/100\n",
      "10000/10000 [==============================] - 4s 362us/step - loss: 0.2964 - accuracy: 0.8693 - val_loss: 0.3444 - val_accuracy: 0.8430\n",
      "Epoch 42/100\n",
      "10000/10000 [==============================] - 4s 362us/step - loss: 0.2890 - accuracy: 0.8706 - val_loss: 0.3522 - val_accuracy: 0.8490\n",
      "Epoch 43/100\n",
      "10000/10000 [==============================] - 4s 363us/step - loss: 0.2901 - accuracy: 0.8711 - val_loss: 0.3493 - val_accuracy: 0.8410\n",
      "Epoch 44/100\n",
      "10000/10000 [==============================] - 4s 362us/step - loss: 0.2972 - accuracy: 0.8706 - val_loss: 0.3392 - val_accuracy: 0.8440\n",
      "Epoch 45/100\n",
      "10000/10000 [==============================] - 4s 365us/step - loss: 0.2913 - accuracy: 0.8713 - val_loss: 0.3564 - val_accuracy: 0.8380\n",
      "Epoch 46/100\n",
      "10000/10000 [==============================] - 4s 363us/step - loss: 0.2891 - accuracy: 0.8748 - val_loss: 0.3697 - val_accuracy: 0.8370\n",
      "Epoch 47/100\n",
      "10000/10000 [==============================] - 4s 367us/step - loss: 0.2929 - accuracy: 0.8711 - val_loss: 0.3354 - val_accuracy: 0.8440\n",
      "Epoch 48/100\n",
      "10000/10000 [==============================] - 4s 364us/step - loss: 0.2869 - accuracy: 0.8707 - val_loss: 0.3293 - val_accuracy: 0.8500\n",
      "Epoch 49/100\n",
      "10000/10000 [==============================] - 4s 362us/step - loss: 0.2881 - accuracy: 0.8725 - val_loss: 0.3505 - val_accuracy: 0.8330\n",
      "Epoch 50/100\n",
      "10000/10000 [==============================] - 4s 362us/step - loss: 0.2899 - accuracy: 0.8725 - val_loss: 0.3333 - val_accuracy: 0.8440\n",
      "Epoch 51/100\n",
      "10000/10000 [==============================] - 4s 360us/step - loss: 0.2851 - accuracy: 0.8734 - val_loss: 0.3429 - val_accuracy: 0.8320\n",
      "Epoch 52/100\n",
      "10000/10000 [==============================] - 4s 362us/step - loss: 0.2887 - accuracy: 0.8724 - val_loss: 0.3406 - val_accuracy: 0.8470\n",
      "Epoch 53/100\n",
      "10000/10000 [==============================] - 4s 361us/step - loss: 0.2846 - accuracy: 0.8745 - val_loss: 0.3503 - val_accuracy: 0.8390\n",
      "Epoch 54/100\n",
      "10000/10000 [==============================] - 4s 361us/step - loss: 0.2795 - accuracy: 0.8759 - val_loss: 0.3331 - val_accuracy: 0.8420\n",
      "Epoch 55/100\n"
     ]
    },
    {
     "name": "stdout",
     "output_type": "stream",
     "text": [
      "10000/10000 [==============================] - 4s 361us/step - loss: 0.2829 - accuracy: 0.8778 - val_loss: 0.3407 - val_accuracy: 0.8450\n",
      "Epoch 56/100\n",
      "10000/10000 [==============================] - 4s 360us/step - loss: 0.2797 - accuracy: 0.8752 - val_loss: 0.3481 - val_accuracy: 0.8430\n",
      "Epoch 57/100\n",
      "10000/10000 [==============================] - 4s 361us/step - loss: 0.2812 - accuracy: 0.8768 - val_loss: 0.3583 - val_accuracy: 0.8190\n",
      "Epoch 58/100\n",
      "10000/10000 [==============================] - 4s 359us/step - loss: 0.2773 - accuracy: 0.8767 - val_loss: 0.3596 - val_accuracy: 0.8380\n",
      "Epoch 59/100\n",
      "10000/10000 [==============================] - 4s 360us/step - loss: 0.2779 - accuracy: 0.8773 - val_loss: 0.3381 - val_accuracy: 0.8440\n",
      "Epoch 60/100\n",
      "10000/10000 [==============================] - 4s 360us/step - loss: 0.2759 - accuracy: 0.8805 - val_loss: 0.3467 - val_accuracy: 0.8410\n",
      "Epoch 61/100\n",
      "10000/10000 [==============================] - 4s 360us/step - loss: 0.2793 - accuracy: 0.8774 - val_loss: 0.3566 - val_accuracy: 0.8360\n",
      "Epoch 62/100\n",
      "10000/10000 [==============================] - 4s 360us/step - loss: 0.2742 - accuracy: 0.8800 - val_loss: 0.3730 - val_accuracy: 0.8370\n",
      "Epoch 63/100\n",
      "10000/10000 [==============================] - 4s 360us/step - loss: 0.2731 - accuracy: 0.8814 - val_loss: 0.3660 - val_accuracy: 0.8320\n",
      "Epoch 64/100\n",
      "10000/10000 [==============================] - 4s 360us/step - loss: 0.2733 - accuracy: 0.8799 - val_loss: 0.3563 - val_accuracy: 0.8340\n",
      "Epoch 65/100\n",
      "10000/10000 [==============================] - 4s 365us/step - loss: 0.2740 - accuracy: 0.8802 - val_loss: 0.3664 - val_accuracy: 0.8250\n",
      "Epoch 66/100\n",
      "10000/10000 [==============================] - 4s 362us/step - loss: 0.2748 - accuracy: 0.8787 - val_loss: 0.3816 - val_accuracy: 0.8300\n",
      "Epoch 67/100\n",
      "10000/10000 [==============================] - 4s 362us/step - loss: 0.2694 - accuracy: 0.8853 - val_loss: 0.3816 - val_accuracy: 0.8410\n",
      "Epoch 68/100\n",
      "10000/10000 [==============================] - 4s 360us/step - loss: 0.2702 - accuracy: 0.8832 - val_loss: 0.3683 - val_accuracy: 0.8420\n",
      "Epoch 69/100\n",
      "10000/10000 [==============================] - 4s 362us/step - loss: 0.2637 - accuracy: 0.8864 - val_loss: 0.3944 - val_accuracy: 0.8360\n",
      "Epoch 70/100\n",
      "10000/10000 [==============================] - 4s 360us/step - loss: 0.2676 - accuracy: 0.8821 - val_loss: 0.3628 - val_accuracy: 0.8400\n",
      "Epoch 71/100\n",
      "10000/10000 [==============================] - 4s 361us/step - loss: 0.2648 - accuracy: 0.8845 - val_loss: 0.3616 - val_accuracy: 0.8390\n",
      "Epoch 72/100\n",
      "10000/10000 [==============================] - 4s 358us/step - loss: 0.2669 - accuracy: 0.8867 - val_loss: 0.3668 - val_accuracy: 0.8380\n",
      "Epoch 73/100\n",
      "10000/10000 [==============================] - 4s 359us/step - loss: 0.2653 - accuracy: 0.8880 - val_loss: 0.3630 - val_accuracy: 0.8370\n",
      "Epoch 74/100\n",
      "10000/10000 [==============================] - 4s 360us/step - loss: 0.2558 - accuracy: 0.8884 - val_loss: 0.3782 - val_accuracy: 0.8370\n",
      "Epoch 75/100\n",
      "10000/10000 [==============================] - 4s 360us/step - loss: 0.2619 - accuracy: 0.8870 - val_loss: 0.3809 - val_accuracy: 0.8420\n",
      "Epoch 76/100\n",
      "10000/10000 [==============================] - 4s 359us/step - loss: 0.2608 - accuracy: 0.8896 - val_loss: 0.3611 - val_accuracy: 0.8470\n",
      "Epoch 77/100\n",
      "10000/10000 [==============================] - 4s 361us/step - loss: 0.2554 - accuracy: 0.8916 - val_loss: 0.3834 - val_accuracy: 0.8380\n",
      "Epoch 78/100\n",
      "10000/10000 [==============================] - 4s 360us/step - loss: 0.2560 - accuracy: 0.8913 - val_loss: 0.3743 - val_accuracy: 0.8370\n",
      "Epoch 79/100\n",
      "10000/10000 [==============================] - 4s 360us/step - loss: 0.2554 - accuracy: 0.8910 - val_loss: 0.3704 - val_accuracy: 0.8420\n",
      "Epoch 80/100\n",
      "10000/10000 [==============================] - 4s 360us/step - loss: 0.2488 - accuracy: 0.8950 - val_loss: 0.3701 - val_accuracy: 0.8380\n",
      "Epoch 81/100\n",
      "10000/10000 [==============================] - 4s 359us/step - loss: 0.2550 - accuracy: 0.8944 - val_loss: 0.3859 - val_accuracy: 0.8330\n",
      "Epoch 82/100\n",
      "10000/10000 [==============================] - 4s 360us/step - loss: 0.2504 - accuracy: 0.8923 - val_loss: 0.3746 - val_accuracy: 0.8430\n",
      "Epoch 83/100\n",
      "10000/10000 [==============================] - 4s 360us/step - loss: 0.2501 - accuracy: 0.8929 - val_loss: 0.3821 - val_accuracy: 0.8390\n",
      "Epoch 84/100\n",
      "10000/10000 [==============================] - 4s 361us/step - loss: 0.2474 - accuracy: 0.8933 - val_loss: 0.3811 - val_accuracy: 0.8440\n",
      "Epoch 85/100\n",
      "10000/10000 [==============================] - 4s 360us/step - loss: 0.2425 - accuracy: 0.8962 - val_loss: 0.3744 - val_accuracy: 0.8460\n",
      "Epoch 86/100\n",
      "10000/10000 [==============================] - 4s 360us/step - loss: 0.2458 - accuracy: 0.8980 - val_loss: 0.3778 - val_accuracy: 0.8460\n",
      "Epoch 87/100\n",
      "10000/10000 [==============================] - 4s 359us/step - loss: 0.2499 - accuracy: 0.8968 - val_loss: 0.3843 - val_accuracy: 0.8460\n",
      "Epoch 88/100\n",
      "10000/10000 [==============================] - 4s 359us/step - loss: 0.2361 - accuracy: 0.8990 - val_loss: 0.3869 - val_accuracy: 0.8370\n",
      "Epoch 89/100\n",
      "10000/10000 [==============================] - 4s 360us/step - loss: 0.2406 - accuracy: 0.8993 - val_loss: 0.3934 - val_accuracy: 0.8470\n",
      "Epoch 90/100\n",
      "10000/10000 [==============================] - 4s 360us/step - loss: 0.2402 - accuracy: 0.8977 - val_loss: 0.4048 - val_accuracy: 0.8300\n",
      "Epoch 91/100\n",
      "10000/10000 [==============================] - 4s 360us/step - loss: 0.2334 - accuracy: 0.9007 - val_loss: 0.4218 - val_accuracy: 0.8410\n",
      "Epoch 92/100\n",
      "10000/10000 [==============================] - 4s 361us/step - loss: 0.2376 - accuracy: 0.9022 - val_loss: 0.3939 - val_accuracy: 0.8410\n",
      "Epoch 93/100\n",
      "10000/10000 [==============================] - 4s 362us/step - loss: 0.2339 - accuracy: 0.9023 - val_loss: 0.4118 - val_accuracy: 0.8440\n",
      "Epoch 94/100\n",
      "10000/10000 [==============================] - 4s 360us/step - loss: 0.2371 - accuracy: 0.9036 - val_loss: 0.4207 - val_accuracy: 0.8400\n",
      "Epoch 95/100\n",
      "10000/10000 [==============================] - 4s 359us/step - loss: 0.2319 - accuracy: 0.9051 - val_loss: 0.4403 - val_accuracy: 0.8380\n",
      "Epoch 96/100\n",
      "10000/10000 [==============================] - 4s 359us/step - loss: 0.2325 - accuracy: 0.9029 - val_loss: 0.4269 - val_accuracy: 0.8410\n",
      "Epoch 97/100\n",
      "10000/10000 [==============================] - 4s 360us/step - loss: 0.2279 - accuracy: 0.9047 - val_loss: 0.4217 - val_accuracy: 0.8410\n",
      "Epoch 98/100\n",
      "10000/10000 [==============================] - 4s 360us/step - loss: 0.2265 - accuracy: 0.9058 - val_loss: 0.3912 - val_accuracy: 0.8360\n",
      "Epoch 99/100\n",
      "10000/10000 [==============================] - 4s 360us/step - loss: 0.2187 - accuracy: 0.9115 - val_loss: 0.4275 - val_accuracy: 0.8450\n",
      "Epoch 100/100\n",
      "10000/10000 [==============================] - 4s 361us/step - loss: 0.2285 - accuracy: 0.9039 - val_loss: 0.4168 - val_accuracy: 0.8410\n"
     ]
    }
   ],
   "source": [
    "history = model.fit(x=[inputs_train,questions_train],\n",
    "                    y=answers_train,\n",
    "                    batch_size=32,\n",
    "                    epochs=100,\n",
    "                    validation_data=([inputs_test,questions_test],answers_test))"
   ]
  },
  {
   "cell_type": "code",
   "execution_count": 33,
   "metadata": {},
   "outputs": [
    {
     "name": "stdout",
     "output_type": "stream",
     "text": [
      "dict_keys(['val_loss', 'val_accuracy', 'loss', 'accuracy'])\n"
     ]
    },
    {
     "data": {
      "image/png": "[encoded data removed]",
      "text/plain": [
       "<Figure size 432x288 with 1 Axes>"
      ]
     },
     "metadata": {
      "needs_background": "light"
     },
     "output_type": "display_data"
    }
   ],
   "source": [
    "print(history.history.keys())\n",
    "\n",
    "# summarize history for accuracy\n",
    "plt.plot(history.history['accuracy'])\n",
    "plt.plot(history.history['val_accuracy'])\n",
    "plt.title('model accuracy')\n",
    "plt.ylabel('accuracy')\n",
    "plt.xlabel('epoch')\n",
    "plt.legend(['train', 'test'], loc='upper left')\n",
    "plt.show()"
   ]
  },
  {
   "cell_type": "code",
   "execution_count": 34,
   "metadata": {},
   "outputs": [],
   "source": [
    "#saving the model\n",
    "model.save(\"100_epochs.h5\")"
   ]
  },
  {
   "cell_type": "code",
   "execution_count": 35,
   "metadata": {},
   "outputs": [],
   "source": [
    "# getting predictions for test set\n",
    "predictions = model.predict(([inputs_test, questions_test]))"
   ]
  },
  {
   "cell_type": "code",
   "execution_count": 36,
   "metadata": {},
   "outputs": [
    {
     "data": {
      "text/plain": [
       "story       Mary got the milk there . John moved to the be...\n",
       "question                             Is John in the kitchen ?\n",
       "answer                                                     no\n",
       "Name: 0, dtype: object"
      ]
     },
     "execution_count": 36,
     "metadata": {},
     "output_type": "execute_result"
    }
   ],
   "source": [
    "test_df.iloc[0]"
   ]
  },
  {
   "cell_type": "code",
   "execution_count": 37,
   "metadata": {},
   "outputs": [
    {
     "name": "stdout",
     "output_type": "stream",
     "text": [
      "Predicted answer is:  no\n",
      "Probability of the answer:  0.99936205\n"
     ]
    }
   ],
   "source": [
    "# generating a prediction from model for first story/question/answer\n",
    "val_max = np.argmax(predictions[140])\n",
    "\n",
    "for key, val in word_index.items():\n",
    "    if val == val_max:\n",
    "        k = key\n",
    "\n",
    "print(\"Predicted answer is: \", k)\n",
    "print(\"Probability of the answer: \", predictions[0][val_max])"
   ]
  },
  {
   "cell_type": "code",
   "execution_count": 38,
   "metadata": {},
   "outputs": [
    {
     "data": {
      "text/plain": [
       "['Mary',\n",
       " 'left',\n",
       " 'the',\n",
       " 'bedroom',\n",
       " '.',\n",
       " 'John',\n",
       " 'dropped',\n",
       " 'the',\n",
       " 'football',\n",
       " 'in',\n",
       " 'the',\n",
       " 'hallway',\n",
       " '.']"
      ]
     },
     "execution_count": 38,
     "metadata": {},
     "output_type": "execute_result"
    }
   ],
   "source": [
    "# for testing our own cases, we must stick to the current vocabulary\n",
    "\n",
    "my_story = \"Mary left the bedroom . John dropped the football in the hallway .\"\n",
    "my_story.split() # punctuation is seperated as in format as it was trained on"
   ]
  },
  {
   "cell_type": "code",
   "execution_count": 39,
   "metadata": {},
   "outputs": [
    {
     "data": {
      "text/plain": [
       "['Is', 'the', 'football', 'in', 'the', 'bedroom', '?']"
      ]
     },
     "execution_count": 39,
     "metadata": {},
     "output_type": "execute_result"
    }
   ],
   "source": [
    "my_question = \"Is the football in the bedroom ?\"\n",
    "my_question.split()"
   ]
  },
  {
   "cell_type": "code",
   "execution_count": 40,
   "metadata": {},
   "outputs": [],
   "source": [
    "# creating test cases. same format as our data (tuple)\n",
    "my_data = [(my_story.split(),my_question.split(),'no')]"
   ]
  },
  {
   "cell_type": "code",
   "execution_count": 41,
   "metadata": {},
   "outputs": [
    {
     "data": {
      "text/html": [
       "<div>\n",
       "<style scoped>\n",
       "    .dataframe tbody tr th:only-of-type {\n",
       "        vertical-align: middle;\n",
       "    }\n",
       "\n",
       "    .dataframe tbody tr th {\n",
       "        vertical-align: top;\n",
       "    }\n",
       "\n",
       "    .dataframe thead th {\n",
       "        text-align: right;\n",
       "    }\n",
       "</style>\n",
       "<table border=\"1\" class=\"dataframe\">\n",
       "  <thead>\n",
       "    <tr style=\"text-align: right;\">\n",
       "      <th></th>\n",
       "      <th>story</th>\n",
       "      <th>question</th>\n",
       "      <th>answer</th>\n",
       "    </tr>\n",
       "  </thead>\n",
       "  <tbody>\n",
       "    <tr>\n",
       "      <td>0</td>\n",
       "      <td>Mary left the bedroom . John dropped the footb...</td>\n",
       "      <td>Is the football in the bedroom ?</td>\n",
       "      <td>no</td>\n",
       "    </tr>\n",
       "  </tbody>\n",
       "</table>\n",
       "</div>"
      ],
      "text/plain": [
       "                                               story  \\\n",
       "0  Mary left the bedroom . John dropped the footb...   \n",
       "\n",
       "                           question answer  \n",
       "0  Is the football in the bedroom ?     no  "
      ]
     },
     "execution_count": 41,
     "metadata": {},
     "output_type": "execute_result"
    }
   ],
   "source": [
    "my_dict = {\"story\":[' '.join(tp[0]) for tp in my_data],\n",
    "           \"question\":[' '.join(tp[1]) for tp in my_data],\n",
    "           \"answer\":[tp[2] for tp in my_data]}\n",
    "\n",
    "my_df = pd.DataFrame(my_dict)\n",
    "my_df.head()"
   ]
  },
  {
   "cell_type": "code",
   "execution_count": 42,
   "metadata": {},
   "outputs": [],
   "source": [
    "my_story , my_question = compute_story_and_questions(my_df,tokenizer)\n",
    "my_answer = compute_answer(my_df)"
   ]
  },
  {
   "cell_type": "code",
   "execution_count": 43,
   "metadata": {},
   "outputs": [
    {
     "data": {
      "text/plain": [
       "array([[ 0,  0,  0,  0,  0,  0,  0,  0,  0,  0,  0,  0,  0,  0,  0,  0,\n",
       "         0,  0,  0,  0,  0,  0,  0,  0,  0,  0,  0,  0,  0,  0,  0,  0,\n",
       "         0,  0,  0,  0,  0,  0,  0,  0,  0,  0,  0,  0,  0,  0,  0,  0,\n",
       "         0,  0,  0,  0,  0,  0,  0,  0,  0,  0,  0,  0,  0,  0,  0,  0,\n",
       "         0,  0,  0,  0,  0,  0,  0,  0,  0,  0,  0,  0,  0,  0,  0,  0,\n",
       "         0,  0,  0,  0,  0,  0,  0,  0,  0,  0,  0,  0,  0,  0,  0,  0,\n",
       "         0,  0,  0,  0,  0,  0,  0,  0,  0,  0,  0,  0,  0,  0,  0,  0,\n",
       "         0,  0,  0,  0,  0,  0,  0,  0,  0,  0,  0,  0,  0,  0,  0,  0,\n",
       "         0,  0,  0,  0,  0,  0,  0,  0,  0,  0,  0,  0,  0,  0,  0,  1,\n",
       "        33,  4,  9,  6, 25, 34,  4, 22, 11,  4, 12,  6]])"
      ]
     },
     "execution_count": 43,
     "metadata": {},
     "output_type": "execute_result"
    }
   ],
   "source": [
    "my_story"
   ]
  },
  {
   "cell_type": "code",
   "execution_count": 44,
   "metadata": {},
   "outputs": [
    {
     "data": {
      "text/plain": [
       "array([[ 4, 22, 11,  4,  9, 13]])"
      ]
     },
     "execution_count": 44,
     "metadata": {},
     "output_type": "execute_result"
    }
   ],
   "source": [
    "my_question"
   ]
  },
  {
   "cell_type": "code",
   "execution_count": 45,
   "metadata": {},
   "outputs": [
    {
     "name": "stdout",
     "output_type": "stream",
     "text": [
      "Predicted answer is:  no\n",
      "Probability of the answer:  0.99936205\n"
     ]
    }
   ],
   "source": [
    "my_prediction = model.predict(([my_story, my_question]))\n",
    "\n",
    "val_max = np.argmax(my_prediction[0])\n",
    "\n",
    "for key, val in word_index.items():\n",
    "    if val == val_max:\n",
    "        k = key\n",
    "\n",
    "print(\"Predicted answer is: \", k)\n",
    "print(\"Probability of the answer: \", predictions[0][val_max])"
   ]
  },
  {
   "cell_type": "code",
   "execution_count": null,
   "metadata": {},
   "outputs": [],
   "source": []
  }
 ],
 "metadata": {
  "kernelspec": {
   "display_name": "Python 3",
   "language": "python",
   "name": "python3"
  },
  "language_info": {
   "codemirror_mode": {
    "name": "ipython",
    "version": 3
   },
   "file_extension": ".py",
   "mimetype": "text/x-python",
   "name": "python",
   "nbconvert_exporter": "python",
   "pygments_lexer": "ipython3",
   "version": "3.7.4"
  }
 },
 "nbformat": 4,
 "nbformat_minor": 4
}
