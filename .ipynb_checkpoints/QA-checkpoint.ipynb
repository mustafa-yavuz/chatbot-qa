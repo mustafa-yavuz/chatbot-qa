{
 "cells": [
  {
   "cell_type": "code",
   "execution_count": 1,
   "metadata": {},
   "outputs": [
    {
     "name": "stderr",
     "output_type": "stream",
     "text": [
      "Using TensorFlow backend.\n"
     ]
    }
   ],
   "source": [
    "import pickle\n",
    "import numpy as np\n",
    "import pandas as pd\n",
    "import matplotlib.pyplot as plt\n",
    "%matplotlib inline\n",
    "\n",
    "from sklearn.feature_extraction.text import CountVectorizer\n",
    "from keras.preprocessing.text import Tokenizer\n",
    "from tensorflow.keras.preprocessing import text,sequence\n",
    "\n",
    "from keras.models import Sequential, Model\n",
    "from keras.layers.embeddings import Embedding\n",
    "from keras.layers import Input, Activation, Dense, Permute, Dropout\n",
    "from keras.layers import add, dot, concatenate\n",
    "from keras.layers import LSTM\n",
    "\n",
    "with open(\"train.txt\", \"rb\") as f:   #list of tuples\n",
    "    train =  pickle.load(f)\n",
    "with open(\"test.txt\", \"rb\") as f:   \n",
    "    test =  pickle.load(f)"
   ]
  },
  {
   "cell_type": "code",
   "execution_count": 2,
   "metadata": {},
   "outputs": [
    {
     "data": {
      "text/plain": [
       "10000"
      ]
     },
     "execution_count": 2,
     "metadata": {},
     "output_type": "execute_result"
    }
   ],
   "source": [
    "len(train)"
   ]
  },
  {
   "cell_type": "code",
   "execution_count": 3,
   "metadata": {},
   "outputs": [
    {
     "data": {
      "text/plain": [
       "1000"
      ]
     },
     "execution_count": 3,
     "metadata": {},
     "output_type": "execute_result"
    }
   ],
   "source": [
    "len(test)"
   ]
  },
  {
   "cell_type": "code",
   "execution_count": 4,
   "metadata": {},
   "outputs": [],
   "source": [
    "# Combining train and test data into a dataframe\n",
    "data = train + test\n",
    "\n",
    "df_dict = {\"story\":[' '.join(tp[0]) for tp in data],\"question\":[' '.join(tp[1]) for tp in data],\"answer\":[tp[2] for tp in data]}\n",
    "df = pd.DataFrame(df_dict)"
   ]
  },
  {
   "cell_type": "code",
   "execution_count": 5,
   "metadata": {},
   "outputs": [
    {
     "data": {
      "text/html": [
       "<div>\n",
       "<style scoped>\n",
       "    .dataframe tbody tr th:only-of-type {\n",
       "        vertical-align: middle;\n",
       "    }\n",
       "\n",
       "    .dataframe tbody tr th {\n",
       "        vertical-align: top;\n",
       "    }\n",
       "\n",
       "    .dataframe thead th {\n",
       "        text-align: right;\n",
       "    }\n",
       "</style>\n",
       "<table border=\"1\" class=\"dataframe\">\n",
       "  <thead>\n",
       "    <tr style=\"text-align: right;\">\n",
       "      <th></th>\n",
       "      <th>story</th>\n",
       "      <th>question</th>\n",
       "      <th>answer</th>\n",
       "    </tr>\n",
       "  </thead>\n",
       "  <tbody>\n",
       "    <tr>\n",
       "      <td>0</td>\n",
       "      <td>Mary moved to the bathroom . Sandra journeyed ...</td>\n",
       "      <td>Is Sandra in the hallway ?</td>\n",
       "      <td>no</td>\n",
       "    </tr>\n",
       "    <tr>\n",
       "      <td>1</td>\n",
       "      <td>Mary moved to the bathroom . Sandra journeyed ...</td>\n",
       "      <td>Is Daniel in the bathroom ?</td>\n",
       "      <td>no</td>\n",
       "    </tr>\n",
       "    <tr>\n",
       "      <td>2</td>\n",
       "      <td>Mary moved to the bathroom . Sandra journeyed ...</td>\n",
       "      <td>Is Daniel in the office ?</td>\n",
       "      <td>no</td>\n",
       "    </tr>\n",
       "    <tr>\n",
       "      <td>3</td>\n",
       "      <td>Mary moved to the bathroom . Sandra journeyed ...</td>\n",
       "      <td>Is Daniel in the bedroom ?</td>\n",
       "      <td>yes</td>\n",
       "    </tr>\n",
       "    <tr>\n",
       "      <td>4</td>\n",
       "      <td>Mary moved to the bathroom . Sandra journeyed ...</td>\n",
       "      <td>Is Daniel in the bedroom ?</td>\n",
       "      <td>yes</td>\n",
       "    </tr>\n",
       "  </tbody>\n",
       "</table>\n",
       "</div>"
      ],
      "text/plain": [
       "                                               story  \\\n",
       "0  Mary moved to the bathroom . Sandra journeyed ...   \n",
       "1  Mary moved to the bathroom . Sandra journeyed ...   \n",
       "2  Mary moved to the bathroom . Sandra journeyed ...   \n",
       "3  Mary moved to the bathroom . Sandra journeyed ...   \n",
       "4  Mary moved to the bathroom . Sandra journeyed ...   \n",
       "\n",
       "                      question answer  \n",
       "0   Is Sandra in the hallway ?     no  \n",
       "1  Is Daniel in the bathroom ?     no  \n",
       "2    Is Daniel in the office ?     no  \n",
       "3   Is Daniel in the bedroom ?    yes  \n",
       "4   Is Daniel in the bedroom ?    yes  "
      ]
     },
     "execution_count": 5,
     "metadata": {},
     "output_type": "execute_result"
    }
   ],
   "source": [
    "df.head()"
   ]
  },
  {
   "cell_type": "code",
   "execution_count": 9,
   "metadata": {},
   "outputs": [],
   "source": [
    "# corpus to find vocabulary \n",
    "corpus = []\n",
    "\n",
    "for i in range(len(data)):\n",
    "    whole_text = df['story'][i] +' '+ df['question'][i] +' '+ df['answer'][i]\n",
    "    corpus.append(whole_text)"
   ]
  },
  {
   "cell_type": "code",
   "execution_count": 10,
   "metadata": {},
   "outputs": [],
   "source": [
    "# using countvectorizer to find the vocabulary\n",
    "vectorizer = CountVectorizer(token_pattern = r\"(?u)\\b\\w\\w+\\b|!|\\?|\\\"|\\'|\\.\")\n",
    "X = vectorizer.fit_transform(corpus)"
   ]
  },
  {
   "cell_type": "code",
   "execution_count": 11,
   "metadata": {},
   "outputs": [
    {
     "data": {
      "text/plain": [
       "['mary',\n",
       " 'moved',\n",
       " 'to',\n",
       " 'the',\n",
       " 'bathroom',\n",
       " '.',\n",
       " 'sandra',\n",
       " 'journeyed',\n",
       " 'bedroom',\n",
       " 'is',\n",
       " 'in',\n",
       " 'hallway',\n",
       " '?',\n",
       " 'no',\n",
       " 'went',\n",
       " 'back',\n",
       " 'daniel',\n",
       " 'kitchen',\n",
       " 'office',\n",
       " 'picked',\n",
       " 'up',\n",
       " 'football',\n",
       " 'there',\n",
       " 'yes',\n",
       " 'john',\n",
       " 'travelled',\n",
       " 'garden',\n",
       " 'got',\n",
       " 'apple',\n",
       " 'put',\n",
       " 'down',\n",
       " 'grabbed',\n",
       " 'left',\n",
       " 'dropped',\n",
       " 'took',\n",
       " 'milk',\n",
       " 'discarded']"
      ]
     },
     "execution_count": 11,
     "metadata": {},
     "output_type": "execute_result"
    }
   ],
   "source": [
    "# words in vocabulary\n",
    "list(vectorizer.vocabulary_.keys())"
   ]
  },
  {
   "cell_type": "code",
   "execution_count": 12,
   "metadata": {},
   "outputs": [],
   "source": [
    "vocabulary = list(vectorizer.vocabulary_)"
   ]
  },
  {
   "cell_type": "code",
   "execution_count": 13,
   "metadata": {},
   "outputs": [
    {
     "data": {
      "text/plain": [
       "38"
      ]
     },
     "execution_count": 13,
     "metadata": {},
     "output_type": "execute_result"
    }
   ],
   "source": [
    "# adding a placeholder for when using keras pad_sequences\n",
    "\n",
    "vocab_len = len(vocabulary) + 1\n",
    "vocab_len"
   ]
  },
  {
   "cell_type": "code",
   "execution_count": 11,
   "metadata": {},
   "outputs": [],
   "source": [
    "# can be used to create vocabulary\n",
    "\n",
    "#from tensorflow.keras.preprocessing import text, sequence\n",
    "\n",
    "#tokenizer = Tokenizer(filters=[])\n",
    "\n",
    "#for text in [df.story.values,df.question.values,df.answer.values]:\n",
    "#    tokenizer.fit_on_texts(text)"
   ]
  },
  {
   "cell_type": "code",
   "execution_count": 14,
   "metadata": {},
   "outputs": [],
   "source": [
    "# finding the maximum story length for padding seuqences\n",
    "\n",
    "max_story_len = max([len(tp[0]) for tp in data]) \n",
    "max_question_len = max([len(tp[1]) for tp in data]) "
   ]
  },
  {
   "cell_type": "code",
   "execution_count": 15,
   "metadata": {},
   "outputs": [],
   "source": [
    "#np.argmax(np.array([len(tp[0]) for tp in data]))"
   ]
  },
  {
   "cell_type": "code",
   "execution_count": 16,
   "metadata": {},
   "outputs": [
    {
     "data": {
      "text/plain": [
       "156"
      ]
     },
     "execution_count": 16,
     "metadata": {},
     "output_type": "execute_result"
    }
   ],
   "source": [
    "max_story_len"
   ]
  },
  {
   "cell_type": "code",
   "execution_count": 17,
   "metadata": {},
   "outputs": [
    {
     "data": {
      "text/plain": [
       "6"
      ]
     },
     "execution_count": 17,
     "metadata": {},
     "output_type": "execute_result"
    }
   ],
   "source": [
    "max_question_len"
   ]
  },
  {
   "cell_type": "code",
   "execution_count": 18,
   "metadata": {},
   "outputs": [],
   "source": [
    "# integer encoding words\n",
    "tokenizer = Tokenizer(filters=[])\n",
    "tokenizer.fit_on_texts(vocabulary)"
   ]
  },
  {
   "cell_type": "code",
   "execution_count": 19,
   "metadata": {},
   "outputs": [],
   "source": [
    "word_index = tokenizer.word_index # lower-cased automatically"
   ]
  },
  {
   "cell_type": "code",
   "execution_count": 20,
   "metadata": {},
   "outputs": [],
   "source": [
    "train_dict = {\"story\":[' '.join(tp[0]) for tp in train],\"question\":[' '.join(tp[1]) for tp in train],\"answer\":[tp[2] for tp in train]}\n",
    "train_df = pd.DataFrame(train_dict)\n",
    "\n",
    "test_dict = {\"story\":[' '.join(tp[0]) for tp in test],\"question\":[' '.join(tp[1]) for tp in test],\"answer\":[tp[2] for tp in test]}\n",
    "test_df = pd.DataFrame(test_dict)"
   ]
  },
  {
   "cell_type": "code",
   "execution_count": 21,
   "metadata": {},
   "outputs": [
    {
     "data": {
      "text/html": [
       "<div>\n",
       "<style scoped>\n",
       "    .dataframe tbody tr th:only-of-type {\n",
       "        vertical-align: middle;\n",
       "    }\n",
       "\n",
       "    .dataframe tbody tr th {\n",
       "        vertical-align: top;\n",
       "    }\n",
       "\n",
       "    .dataframe thead th {\n",
       "        text-align: right;\n",
       "    }\n",
       "</style>\n",
       "<table border=\"1\" class=\"dataframe\">\n",
       "  <thead>\n",
       "    <tr style=\"text-align: right;\">\n",
       "      <th></th>\n",
       "      <th>story</th>\n",
       "      <th>question</th>\n",
       "      <th>answer</th>\n",
       "    </tr>\n",
       "  </thead>\n",
       "  <tbody>\n",
       "    <tr>\n",
       "      <td>0</td>\n",
       "      <td>Mary moved to the bathroom . Sandra journeyed ...</td>\n",
       "      <td>Is Sandra in the hallway ?</td>\n",
       "      <td>no</td>\n",
       "    </tr>\n",
       "    <tr>\n",
       "      <td>1</td>\n",
       "      <td>Mary moved to the bathroom . Sandra journeyed ...</td>\n",
       "      <td>Is Daniel in the bathroom ?</td>\n",
       "      <td>no</td>\n",
       "    </tr>\n",
       "    <tr>\n",
       "      <td>2</td>\n",
       "      <td>Mary moved to the bathroom . Sandra journeyed ...</td>\n",
       "      <td>Is Daniel in the office ?</td>\n",
       "      <td>no</td>\n",
       "    </tr>\n",
       "    <tr>\n",
       "      <td>3</td>\n",
       "      <td>Mary moved to the bathroom . Sandra journeyed ...</td>\n",
       "      <td>Is Daniel in the bedroom ?</td>\n",
       "      <td>yes</td>\n",
       "    </tr>\n",
       "    <tr>\n",
       "      <td>4</td>\n",
       "      <td>Mary moved to the bathroom . Sandra journeyed ...</td>\n",
       "      <td>Is Daniel in the bedroom ?</td>\n",
       "      <td>yes</td>\n",
       "    </tr>\n",
       "  </tbody>\n",
       "</table>\n",
       "</div>"
      ],
      "text/plain": [
       "                                               story  \\\n",
       "0  Mary moved to the bathroom . Sandra journeyed ...   \n",
       "1  Mary moved to the bathroom . Sandra journeyed ...   \n",
       "2  Mary moved to the bathroom . Sandra journeyed ...   \n",
       "3  Mary moved to the bathroom . Sandra journeyed ...   \n",
       "4  Mary moved to the bathroom . Sandra journeyed ...   \n",
       "\n",
       "                      question answer  \n",
       "0   Is Sandra in the hallway ?     no  \n",
       "1  Is Daniel in the bathroom ?     no  \n",
       "2    Is Daniel in the office ?     no  \n",
       "3   Is Daniel in the bedroom ?    yes  \n",
       "4   Is Daniel in the bedroom ?    yes  "
      ]
     },
     "execution_count": 21,
     "metadata": {},
     "output_type": "execute_result"
    }
   ],
   "source": [
    "train_df.head()"
   ]
  },
  {
   "cell_type": "code",
   "execution_count": 22,
   "metadata": {},
   "outputs": [
    {
     "data": {
      "text/html": [
       "<div>\n",
       "<style scoped>\n",
       "    .dataframe tbody tr th:only-of-type {\n",
       "        vertical-align: middle;\n",
       "    }\n",
       "\n",
       "    .dataframe tbody tr th {\n",
       "        vertical-align: top;\n",
       "    }\n",
       "\n",
       "    .dataframe thead th {\n",
       "        text-align: right;\n",
       "    }\n",
       "</style>\n",
       "<table border=\"1\" class=\"dataframe\">\n",
       "  <thead>\n",
       "    <tr style=\"text-align: right;\">\n",
       "      <th></th>\n",
       "      <th>story</th>\n",
       "      <th>question</th>\n",
       "      <th>answer</th>\n",
       "    </tr>\n",
       "  </thead>\n",
       "  <tbody>\n",
       "    <tr>\n",
       "      <td>0</td>\n",
       "      <td>Mary got the milk there . John moved to the be...</td>\n",
       "      <td>Is John in the kitchen ?</td>\n",
       "      <td>no</td>\n",
       "    </tr>\n",
       "    <tr>\n",
       "      <td>1</td>\n",
       "      <td>Mary got the milk there . John moved to the be...</td>\n",
       "      <td>Is John in the kitchen ?</td>\n",
       "      <td>no</td>\n",
       "    </tr>\n",
       "    <tr>\n",
       "      <td>2</td>\n",
       "      <td>Mary got the milk there . John moved to the be...</td>\n",
       "      <td>Is John in the garden ?</td>\n",
       "      <td>yes</td>\n",
       "    </tr>\n",
       "    <tr>\n",
       "      <td>3</td>\n",
       "      <td>Mary got the milk there . John moved to the be...</td>\n",
       "      <td>Is Daniel in the bathroom ?</td>\n",
       "      <td>yes</td>\n",
       "    </tr>\n",
       "    <tr>\n",
       "      <td>4</td>\n",
       "      <td>Mary got the milk there . John moved to the be...</td>\n",
       "      <td>Is Daniel in the bedroom ?</td>\n",
       "      <td>no</td>\n",
       "    </tr>\n",
       "  </tbody>\n",
       "</table>\n",
       "</div>"
      ],
      "text/plain": [
       "                                               story  \\\n",
       "0  Mary got the milk there . John moved to the be...   \n",
       "1  Mary got the milk there . John moved to the be...   \n",
       "2  Mary got the milk there . John moved to the be...   \n",
       "3  Mary got the milk there . John moved to the be...   \n",
       "4  Mary got the milk there . John moved to the be...   \n",
       "\n",
       "                      question answer  \n",
       "0     Is John in the kitchen ?     no  \n",
       "1     Is John in the kitchen ?     no  \n",
       "2      Is John in the garden ?    yes  \n",
       "3  Is Daniel in the bathroom ?    yes  \n",
       "4   Is Daniel in the bedroom ?     no  "
      ]
     },
     "execution_count": 22,
     "metadata": {},
     "output_type": "execute_result"
    }
   ],
   "source": [
    "test_df.head()"
   ]
  },
  {
   "cell_type": "code",
   "execution_count": 23,
   "metadata": {},
   "outputs": [],
   "source": [
    "def compute_story_and_questions(dframe, tokenizer):\n",
    "    \n",
    "    story = tokenizer.texts_to_sequences(dframe.story.values)\n",
    "    question = tokenizer.texts_to_sequences(dframe.question.values)\n",
    "\n",
    "    story = sequence.pad_sequences(story, maxlen=156)\n",
    "    question = sequence.pad_sequences(question, maxlen=6)\n",
    "    \n",
    "    return story, question"
   ]
  },
  {
   "cell_type": "code",
   "execution_count": 24,
   "metadata": {},
   "outputs": [],
   "source": [
    "inputs_train, questions_train = compute_story_and_questions(train_df,tokenizer)\n",
    "inputs_test, questions_test = compute_story_and_questions(test_df,tokenizer)"
   ]
  },
  {
   "cell_type": "code",
   "execution_count": 25,
   "metadata": {},
   "outputs": [],
   "source": [
    "def compute_answer(dframe):\n",
    "    \n",
    "    answers = []\n",
    "    \n",
    "    for yes_no in dframe.answer.values:\n",
    "        \n",
    "        y = np.zeros(len(word_index) + 1)    \n",
    "        y[word_index[yes_no]] = 1\n",
    "        answers.append(y)\n",
    "    \n",
    "    return np.array(answers)"
   ]
  },
  {
   "cell_type": "code",
   "execution_count": 26,
   "metadata": {},
   "outputs": [],
   "source": [
    "answers_train = compute_answer(train_df)\n",
    "answers_test = compute_answer(test_df)"
   ]
  },
  {
   "cell_type": "code",
   "execution_count": 27,
   "metadata": {},
   "outputs": [
    {
     "data": {
      "text/plain": [
       "array([   0.,    0.,    0.,    0.,    0.,    0.,    0.,    0.,    0.,\n",
       "          0.,    0.,    0.,    0.,    0., 4988.,    0.,    0.,    0.,\n",
       "          0.,    0.,    0.,    0.,    0.,    0., 5012.,    0.,    0.,\n",
       "          0.,    0.,    0.,    0.,    0.,    0.,    0.,    0.,    0.,\n",
       "          0.,    0.])"
      ]
     },
     "execution_count": 27,
     "metadata": {},
     "output_type": "execute_result"
    }
   ],
   "source": [
    "sum(answers_train) # number of yes and no in training set"
   ]
  },
  {
   "cell_type": "code",
   "execution_count": 28,
   "metadata": {},
   "outputs": [],
   "source": [
    "# 2 inputs ( story and question ) \n",
    "# creating placeholders for inputs\n",
    "\n",
    "input_sequence = Input(shape = (max_story_len,))\n",
    "input_question = Input(shape = (max_question_len,))"
   ]
  },
  {
   "cell_type": "code",
   "execution_count": 29,
   "metadata": {},
   "outputs": [],
   "source": [
    "# creating input encoders m, c and question encoder\n",
    "\n",
    "# output of input_encoder_m in the format of (batch_size, 156, 64)\n",
    "encoder_m = Sequential()\n",
    "encoder_m.add(Embedding(input_dim=vocab_len,output_dim=64,input_length=156))\n",
    "encoder_m.add(Dropout(0.3))\n",
    "\n",
    "# output of input_encoder_m in the format of (batch_size, 156, 6)\n",
    "encoder_c = Sequential()\n",
    "encoder_c.add(Embedding(input_dim=vocab_len,output_dim=6,input_length=156))\n",
    "encoder_c.add(Dropout(0.3))\n",
    "\n",
    "# output of input_encoder_m in the format of (batch_size, 6, 64)\n",
    "question_encoder = Sequential()\n",
    "question_encoder.add(Embedding(input_dim=vocab_len,output_dim=64,input_length=6))\n",
    "question_encoder.add(Dropout(0.3))"
   ]
  },
  {
   "cell_type": "code",
   "execution_count": 30,
   "metadata": {},
   "outputs": [],
   "source": [
    "# encoding sequences\n",
    "\n",
    "# passing place holders through encoders\n",
    "result_m = encoder_m(input_sequence) \n",
    "result_c = encoder_c(input_sequence)\n",
    "result_q = question_encoder(input_question)\n",
    "\n",
    "dt = dot([result_m, result_q], axes=(2, 2))\n",
    "p = Activation('softmax')(dt)\n",
    "\n",
    "# adding the p matrix with the input vector c sequence\n",
    "o = add([p, result_c])  # (samples, 156, 6)\n",
    "o = Permute((2, 1))(o)  # (samples, 6, 156)\n",
    "\n",
    "# concatenating the o matrix with the question vector sequence\n",
    "W = concatenate([o,result_q])"
   ]
  },
  {
   "cell_type": "code",
   "execution_count": 31,
   "metadata": {},
   "outputs": [],
   "source": [
    "# reducing W with RNN (LSTM)\n",
    "W = LSTM(32)(W)  \n",
    "\n",
    "# Regularization \n",
    "W = Dropout(0.5)(W)\n",
    "W = Dense(vocab_len)(W)  # (batch_size, vocab_size)\n",
    "\n",
    "# outputing a probability distribution over the vocabulary\n",
    "W = Activation('softmax')(W)"
   ]
  },
  {
   "cell_type": "code",
   "execution_count": 32,
   "metadata": {},
   "outputs": [],
   "source": [
    "# building the model\n",
    "model = Model([input_sequence, input_question], outputs = W)\n",
    "model.compile(optimizer='rmsprop', loss='categorical_crossentropy',\n",
    "              metrics=['accuracy'])"
   ]
  },
  {
   "cell_type": "code",
   "execution_count": 33,
   "metadata": {},
   "outputs": [
    {
     "name": "stdout",
     "output_type": "stream",
     "text": [
      "Model: \"model_1\"\n",
      "__________________________________________________________________________________________________\n",
      "Layer (type)                    Output Shape         Param #     Connected to                     \n",
      "==================================================================================================\n",
      "input_1 (InputLayer)            (None, 156)          0                                            \n",
      "__________________________________________________________________________________________________\n",
      "input_2 (InputLayer)            (None, 6)            0                                            \n",
      "__________________________________________________________________________________________________\n",
      "sequential_1 (Sequential)       (None, 156, 64)      2432        input_1[0][0]                    \n",
      "__________________________________________________________________________________________________\n",
      "sequential_3 (Sequential)       (None, 6, 64)        2432        input_2[0][0]                    \n",
      "__________________________________________________________________________________________________\n",
      "dot_1 (Dot)                     (None, 156, 6)       0           sequential_1[1][0]               \n",
      "                                                                 sequential_3[1][0]               \n",
      "__________________________________________________________________________________________________\n",
      "activation_1 (Activation)       (None, 156, 6)       0           dot_1[0][0]                      \n",
      "__________________________________________________________________________________________________\n",
      "sequential_2 (Sequential)       (None, 156, 6)       228         input_1[0][0]                    \n",
      "__________________________________________________________________________________________________\n",
      "add_1 (Add)                     (None, 156, 6)       0           activation_1[0][0]               \n",
      "                                                                 sequential_2[1][0]               \n",
      "__________________________________________________________________________________________________\n",
      "permute_1 (Permute)             (None, 6, 156)       0           add_1[0][0]                      \n",
      "__________________________________________________________________________________________________\n",
      "concatenate_1 (Concatenate)     (None, 6, 220)       0           permute_1[0][0]                  \n",
      "                                                                 sequential_3[1][0]               \n",
      "__________________________________________________________________________________________________\n",
      "lstm_1 (LSTM)                   (None, 32)           32384       concatenate_1[0][0]              \n",
      "__________________________________________________________________________________________________\n",
      "dropout_4 (Dropout)             (None, 32)           0           lstm_1[0][0]                     \n",
      "__________________________________________________________________________________________________\n",
      "dense_1 (Dense)                 (None, 38)           1254        dropout_4[0][0]                  \n",
      "__________________________________________________________________________________________________\n",
      "activation_2 (Activation)       (None, 38)           0           dense_1[0][0]                    \n",
      "==================================================================================================\n",
      "Total params: 38,730\n",
      "Trainable params: 38,730\n",
      "Non-trainable params: 0\n",
      "__________________________________________________________________________________________________\n"
     ]
    }
   ],
   "source": [
    "model.summary()"
   ]
  },
  {
   "cell_type": "code",
   "execution_count": 34,
   "metadata": {},
   "outputs": [
    {
     "name": "stderr",
     "output_type": "stream",
     "text": [
      "C:\\Users\\WorkPC\\Anaconda3\\lib\\site-packages\\tensorflow_core\\python\\framework\\indexed_slices.py:433: UserWarning: Converting sparse IndexedSlices to a dense Tensor of unknown shape. This may consume a large amount of memory.\n",
      "  \"Converting sparse IndexedSlices to a dense Tensor of unknown shape. \"\n"
     ]
    },
    {
     "name": "stdout",
     "output_type": "stream",
     "text": [
      "Train on 10000 samples, validate on 1000 samples\n",
      "Epoch 1/100\n",
      "10000/10000 [==============================] - 5s 453us/step - loss: 0.9524 - accuracy: 0.4970 - val_loss: 0.6945 - val_accuracy: 0.5030\n",
      "Epoch 2/100\n",
      "10000/10000 [==============================] - 3s 336us/step - loss: 0.7085 - accuracy: 0.5001 - val_loss: 0.6937 - val_accuracy: 0.5030\n",
      "Epoch 3/100\n",
      "10000/10000 [==============================] - 3s 335us/step - loss: 0.6969 - accuracy: 0.4993 - val_loss: 0.6933 - val_accuracy: 0.5030\n",
      "Epoch 4/100\n",
      "10000/10000 [==============================] - 3s 335us/step - loss: 0.6950 - accuracy: 0.5006 - val_loss: 0.6939 - val_accuracy: 0.4970\n",
      "Epoch 5/100\n",
      "10000/10000 [==============================] - 3s 335us/step - loss: 0.6946 - accuracy: 0.4999 - val_loss: 0.6932 - val_accuracy: 0.4970\n",
      "Epoch 6/100\n",
      "10000/10000 [==============================] - 3s 335us/step - loss: 0.6944 - accuracy: 0.5052 - val_loss: 0.6942 - val_accuracy: 0.4970\n",
      "Epoch 7/100\n",
      "10000/10000 [==============================] - 3s 335us/step - loss: 0.6945 - accuracy: 0.5002 - val_loss: 0.6937 - val_accuracy: 0.5030\n",
      "Epoch 8/100\n",
      "10000/10000 [==============================] - 3s 334us/step - loss: 0.6947 - accuracy: 0.4959 - val_loss: 0.6940 - val_accuracy: 0.4840\n",
      "Epoch 9/100\n",
      "10000/10000 [==============================] - 3s 336us/step - loss: 0.6937 - accuracy: 0.5078 - val_loss: 0.6946 - val_accuracy: 0.4810\n",
      "Epoch 10/100\n",
      "10000/10000 [==============================] - 4s 366us/step - loss: 0.6930 - accuracy: 0.5094 - val_loss: 0.6975 - val_accuracy: 0.4810\n",
      "Epoch 11/100\n",
      "10000/10000 [==============================] - 4s 376us/step - loss: 0.6901 - accuracy: 0.5210 - val_loss: 0.6953 - val_accuracy: 0.5330\n",
      "Epoch 12/100\n",
      "10000/10000 [==============================] - 4s 374us/step - loss: 0.6821 - accuracy: 0.5473 - val_loss: 0.6820 - val_accuracy: 0.5570\n",
      "Epoch 13/100\n",
      "10000/10000 [==============================] - 4s 376us/step - loss: 0.6678 - accuracy: 0.5937 - val_loss: 0.6560 - val_accuracy: 0.6180\n",
      "Epoch 14/100\n",
      "10000/10000 [==============================] - 4s 375us/step - loss: 0.6458 - accuracy: 0.6309 - val_loss: 0.6365 - val_accuracy: 0.6610\n",
      "Epoch 15/100\n",
      "10000/10000 [==============================] - 4s 380us/step - loss: 0.6241 - accuracy: 0.6587 - val_loss: 0.6158 - val_accuracy: 0.6420\n",
      "Epoch 16/100\n",
      "10000/10000 [==============================] - 4s 378us/step - loss: 0.6062 - accuracy: 0.6783 - val_loss: 0.5684 - val_accuracy: 0.7170\n",
      "Epoch 17/100\n",
      "10000/10000 [==============================] - 4s 376us/step - loss: 0.5676 - accuracy: 0.7103 - val_loss: 0.5527 - val_accuracy: 0.7260\n",
      "Epoch 18/100\n",
      "10000/10000 [==============================] - 4s 376us/step - loss: 0.5337 - accuracy: 0.7425 - val_loss: 0.4992 - val_accuracy: 0.7750\n",
      "Epoch 19/100\n",
      "10000/10000 [==============================] - 4s 375us/step - loss: 0.4939 - accuracy: 0.7735 - val_loss: 0.4664 - val_accuracy: 0.7930\n",
      "Epoch 20/100\n",
      "10000/10000 [==============================] - 4s 376us/step - loss: 0.4817 - accuracy: 0.7830 - val_loss: 0.4502 - val_accuracy: 0.8040\n",
      "Epoch 21/100\n",
      "10000/10000 [==============================] - 4s 375us/step - loss: 0.4632 - accuracy: 0.7950 - val_loss: 0.4539 - val_accuracy: 0.7980\n",
      "Epoch 22/100\n",
      "10000/10000 [==============================] - 4s 376us/step - loss: 0.4485 - accuracy: 0.8055 - val_loss: 0.4454 - val_accuracy: 0.8030\n",
      "Epoch 23/100\n",
      "10000/10000 [==============================] - 4s 375us/step - loss: 0.4365 - accuracy: 0.8085 - val_loss: 0.4513 - val_accuracy: 0.8060\n",
      "Epoch 24/100\n",
      "10000/10000 [==============================] - 4s 376us/step - loss: 0.4301 - accuracy: 0.8140 - val_loss: 0.4329 - val_accuracy: 0.8030\n",
      "Epoch 25/100\n",
      "10000/10000 [==============================] - 4s 375us/step - loss: 0.4180 - accuracy: 0.8199 - val_loss: 0.4740 - val_accuracy: 0.8070\n",
      "Epoch 26/100\n",
      "10000/10000 [==============================] - 4s 377us/step - loss: 0.4127 - accuracy: 0.8260 - val_loss: 0.4316 - val_accuracy: 0.7970\n",
      "Epoch 27/100\n",
      "10000/10000 [==============================] - 4s 376us/step - loss: 0.4026 - accuracy: 0.8295 - val_loss: 0.4354 - val_accuracy: 0.7970\n",
      "Epoch 28/100\n",
      "10000/10000 [==============================] - 4s 377us/step - loss: 0.3976 - accuracy: 0.8291 - val_loss: 0.4249 - val_accuracy: 0.8040\n",
      "Epoch 29/100\n",
      "10000/10000 [==============================] - 4s 376us/step - loss: 0.3908 - accuracy: 0.8337 - val_loss: 0.4147 - val_accuracy: 0.8130\n",
      "Epoch 30/100\n",
      "10000/10000 [==============================] - 4s 376us/step - loss: 0.3879 - accuracy: 0.8372 - val_loss: 0.4097 - val_accuracy: 0.8220\n",
      "Epoch 31/100\n",
      "10000/10000 [==============================] - 4s 377us/step - loss: 0.3787 - accuracy: 0.8379 - val_loss: 0.4106 - val_accuracy: 0.8250\n",
      "Epoch 32/100\n",
      "10000/10000 [==============================] - 4s 381us/step - loss: 0.3723 - accuracy: 0.8430 - val_loss: 0.4126 - val_accuracy: 0.8180\n",
      "Epoch 33/100\n",
      "10000/10000 [==============================] - 4s 382us/step - loss: 0.3744 - accuracy: 0.8431 - val_loss: 0.4031 - val_accuracy: 0.8310\n",
      "Epoch 34/100\n",
      "10000/10000 [==============================] - 4s 378us/step - loss: 0.3685 - accuracy: 0.8456 - val_loss: 0.4024 - val_accuracy: 0.8100\n",
      "Epoch 35/100\n",
      "10000/10000 [==============================] - 4s 376us/step - loss: 0.3626 - accuracy: 0.8476 - val_loss: 0.4176 - val_accuracy: 0.8220\n",
      "Epoch 36/100\n",
      "10000/10000 [==============================] - 4s 377us/step - loss: 0.3611 - accuracy: 0.8484 - val_loss: 0.4102 - val_accuracy: 0.8160\n",
      "Epoch 37/100\n",
      "10000/10000 [==============================] - 4s 376us/step - loss: 0.3618 - accuracy: 0.8472 - val_loss: 0.3964 - val_accuracy: 0.8320\n",
      "Epoch 38/100\n",
      "10000/10000 [==============================] - 4s 375us/step - loss: 0.3514 - accuracy: 0.8528 - val_loss: 0.4095 - val_accuracy: 0.8280\n",
      "Epoch 39/100\n",
      "10000/10000 [==============================] - 4s 376us/step - loss: 0.3512 - accuracy: 0.8500 - val_loss: 0.3921 - val_accuracy: 0.8300\n",
      "Epoch 40/100\n",
      "10000/10000 [==============================] - 4s 377us/step - loss: 0.3515 - accuracy: 0.8508 - val_loss: 0.3967 - val_accuracy: 0.8290\n",
      "Epoch 41/100\n",
      "10000/10000 [==============================] - 4s 376us/step - loss: 0.3449 - accuracy: 0.8540 - val_loss: 0.3960 - val_accuracy: 0.8300\n",
      "Epoch 42/100\n",
      "10000/10000 [==============================] - 4s 376us/step - loss: 0.3423 - accuracy: 0.8568 - val_loss: 0.4022 - val_accuracy: 0.8340\n",
      "Epoch 43/100\n",
      "10000/10000 [==============================] - 4s 375us/step - loss: 0.3391 - accuracy: 0.8579 - val_loss: 0.3996 - val_accuracy: 0.8290\n",
      "Epoch 44/100\n",
      "10000/10000 [==============================] - 4s 374us/step - loss: 0.3412 - accuracy: 0.8535 - val_loss: 0.3941 - val_accuracy: 0.8290\n",
      "Epoch 45/100\n",
      "10000/10000 [==============================] - 4s 376us/step - loss: 0.3415 - accuracy: 0.8571 - val_loss: 0.4005 - val_accuracy: 0.8230\n",
      "Epoch 46/100\n",
      "10000/10000 [==============================] - 4s 376us/step - loss: 0.3350 - accuracy: 0.8557 - val_loss: 0.4056 - val_accuracy: 0.8140\n",
      "Epoch 47/100\n",
      "10000/10000 [==============================] - 4s 377us/step - loss: 0.3317 - accuracy: 0.8576 - val_loss: 0.4180 - val_accuracy: 0.8120\n",
      "Epoch 48/100\n",
      "10000/10000 [==============================] - 4s 375us/step - loss: 0.3356 - accuracy: 0.8582 - val_loss: 0.3982 - val_accuracy: 0.8260\n",
      "Epoch 49/100\n",
      "10000/10000 [==============================] - 4s 375us/step - loss: 0.3272 - accuracy: 0.8583 - val_loss: 0.3953 - val_accuracy: 0.8370\n",
      "Epoch 50/100\n",
      "10000/10000 [==============================] - 4s 382us/step - loss: 0.3257 - accuracy: 0.8641 - val_loss: 0.3929 - val_accuracy: 0.8230\n",
      "Epoch 51/100\n",
      "10000/10000 [==============================] - 4s 376us/step - loss: 0.3266 - accuracy: 0.8559 - val_loss: 0.3909 - val_accuracy: 0.8350\n",
      "Epoch 52/100\n",
      "10000/10000 [==============================] - 4s 375us/step - loss: 0.3207 - accuracy: 0.8632 - val_loss: 0.3857 - val_accuracy: 0.8300\n",
      "Epoch 53/100\n",
      "10000/10000 [==============================] - 4s 375us/step - loss: 0.3174 - accuracy: 0.8650 - val_loss: 0.3916 - val_accuracy: 0.8320\n",
      "Epoch 54/100\n",
      "10000/10000 [==============================] - 4s 376us/step - loss: 0.3201 - accuracy: 0.8636 - val_loss: 0.3876 - val_accuracy: 0.8290\n",
      "Epoch 55/100\n"
     ]
    },
    {
     "name": "stdout",
     "output_type": "stream",
     "text": [
      "10000/10000 [==============================] - 4s 376us/step - loss: 0.3163 - accuracy: 0.8655 - val_loss: 0.4007 - val_accuracy: 0.8240\n",
      "Epoch 56/100\n",
      "10000/10000 [==============================] - 4s 377us/step - loss: 0.3151 - accuracy: 0.8625 - val_loss: 0.3904 - val_accuracy: 0.8310\n",
      "Epoch 57/100\n",
      "10000/10000 [==============================] - 4s 376us/step - loss: 0.3153 - accuracy: 0.8689 - val_loss: 0.3996 - val_accuracy: 0.8300\n",
      "Epoch 58/100\n",
      "10000/10000 [==============================] - 4s 377us/step - loss: 0.3131 - accuracy: 0.8633 - val_loss: 0.3819 - val_accuracy: 0.8350\n",
      "Epoch 59/100\n",
      "10000/10000 [==============================] - 4s 377us/step - loss: 0.3057 - accuracy: 0.8715 - val_loss: 0.4116 - val_accuracy: 0.8170\n",
      "Epoch 60/100\n",
      "10000/10000 [==============================] - 4s 375us/step - loss: 0.3124 - accuracy: 0.8649 - val_loss: 0.3995 - val_accuracy: 0.8280\n",
      "Epoch 61/100\n",
      "10000/10000 [==============================] - 4s 377us/step - loss: 0.3041 - accuracy: 0.8697 - val_loss: 0.3860 - val_accuracy: 0.8220\n",
      "Epoch 62/100\n",
      "10000/10000 [==============================] - 4s 377us/step - loss: 0.3069 - accuracy: 0.8663 - val_loss: 0.3986 - val_accuracy: 0.8290\n",
      "Epoch 63/100\n",
      "10000/10000 [==============================] - 4s 377us/step - loss: 0.3067 - accuracy: 0.8683 - val_loss: 0.3997 - val_accuracy: 0.8310\n",
      "Epoch 64/100\n",
      "10000/10000 [==============================] - 4s 376us/step - loss: 0.3040 - accuracy: 0.8680 - val_loss: 0.3916 - val_accuracy: 0.8240\n",
      "Epoch 65/100\n",
      "10000/10000 [==============================] - 4s 377us/step - loss: 0.3008 - accuracy: 0.8713 - val_loss: 0.3997 - val_accuracy: 0.8350\n",
      "Epoch 66/100\n",
      "10000/10000 [==============================] - 4s 377us/step - loss: 0.2970 - accuracy: 0.8698 - val_loss: 0.3960 - val_accuracy: 0.8280\n",
      "Epoch 67/100\n",
      "10000/10000 [==============================] - 4s 380us/step - loss: 0.2940 - accuracy: 0.8761 - val_loss: 0.4173 - val_accuracy: 0.8220\n",
      "Epoch 68/100\n",
      "10000/10000 [==============================] - 4s 382us/step - loss: 0.3010 - accuracy: 0.8710 - val_loss: 0.4257 - val_accuracy: 0.8270\n",
      "Epoch 69/100\n",
      "10000/10000 [==============================] - 4s 377us/step - loss: 0.2916 - accuracy: 0.8756 - val_loss: 0.4079 - val_accuracy: 0.8270\n",
      "Epoch 70/100\n",
      "10000/10000 [==============================] - 4s 371us/step - loss: 0.2926 - accuracy: 0.8741 - val_loss: 0.4023 - val_accuracy: 0.8330\n",
      "Epoch 71/100\n",
      "10000/10000 [==============================] - 4s 376us/step - loss: 0.2864 - accuracy: 0.8740 - val_loss: 0.4081 - val_accuracy: 0.8410\n",
      "Epoch 72/100\n",
      "10000/10000 [==============================] - 4s 376us/step - loss: 0.2880 - accuracy: 0.8784 - val_loss: 0.4217 - val_accuracy: 0.8280\n",
      "Epoch 73/100\n",
      "10000/10000 [==============================] - 4s 376us/step - loss: 0.2828 - accuracy: 0.8770 - val_loss: 0.4142 - val_accuracy: 0.8190\n",
      "Epoch 74/100\n",
      "10000/10000 [==============================] - 4s 375us/step - loss: 0.2859 - accuracy: 0.8804 - val_loss: 0.4270 - val_accuracy: 0.8300\n",
      "Epoch 75/100\n",
      "10000/10000 [==============================] - 4s 376us/step - loss: 0.2805 - accuracy: 0.8805 - val_loss: 0.4138 - val_accuracy: 0.8370\n",
      "Epoch 76/100\n",
      "10000/10000 [==============================] - 4s 378us/step - loss: 0.2830 - accuracy: 0.8786 - val_loss: 0.4104 - val_accuracy: 0.8150\n",
      "Epoch 77/100\n",
      "10000/10000 [==============================] - 4s 376us/step - loss: 0.2813 - accuracy: 0.8815 - val_loss: 0.4212 - val_accuracy: 0.8350\n",
      "Epoch 78/100\n",
      "10000/10000 [==============================] - 4s 376us/step - loss: 0.2813 - accuracy: 0.8809 - val_loss: 0.4367 - val_accuracy: 0.8350\n",
      "Epoch 79/100\n",
      "10000/10000 [==============================] - 4s 377us/step - loss: 0.2772 - accuracy: 0.8827 - val_loss: 0.4275 - val_accuracy: 0.8370\n",
      "Epoch 80/100\n",
      "10000/10000 [==============================] - 4s 377us/step - loss: 0.2750 - accuracy: 0.8838 - val_loss: 0.4298 - val_accuracy: 0.8380\n",
      "Epoch 81/100\n",
      "10000/10000 [==============================] - 4s 378us/step - loss: 0.2761 - accuracy: 0.8789 - val_loss: 0.4080 - val_accuracy: 0.8330\n",
      "Epoch 82/100\n",
      "10000/10000 [==============================] - 4s 378us/step - loss: 0.2748 - accuracy: 0.8851 - val_loss: 0.4149 - val_accuracy: 0.82801 - accura\n",
      "Epoch 83/100\n",
      "10000/10000 [==============================] - 4s 376us/step - loss: 0.2786 - accuracy: 0.8833 - val_loss: 0.4317 - val_accuracy: 0.8270\n",
      "Epoch 84/100\n",
      "10000/10000 [==============================] - 4s 379us/step - loss: 0.2760 - accuracy: 0.8828 - val_loss: 0.4428 - val_accuracy: 0.8240\n",
      "Epoch 85/100\n",
      "10000/10000 [==============================] - 4s 381us/step - loss: 0.2743 - accuracy: 0.8871 - val_loss: 0.4274 - val_accuracy: 0.8270\n",
      "Epoch 86/100\n",
      "10000/10000 [==============================] - 4s 378us/step - loss: 0.2682 - accuracy: 0.8871 - val_loss: 0.4441 - val_accuracy: 0.8230\n",
      "Epoch 87/100\n",
      "10000/10000 [==============================] - 4s 378us/step - loss: 0.2692 - accuracy: 0.8832 - val_loss: 0.4397 - val_accuracy: 0.8230s: 0.270\n",
      "Epoch 88/100\n",
      "10000/10000 [==============================] - 4s 378us/step - loss: 0.2599 - accuracy: 0.8887 - val_loss: 0.4697 - val_accuracy: 0.8280\n",
      "Epoch 89/100\n",
      "10000/10000 [==============================] - 4s 379us/step - loss: 0.2625 - accuracy: 0.8906 - val_loss: 0.4436 - val_accuracy: 0.8340\n",
      "Epoch 90/100\n",
      "10000/10000 [==============================] - 4s 376us/step - loss: 0.2583 - accuracy: 0.8901 - val_loss: 0.4422 - val_accuracy: 0.8350\n",
      "Epoch 91/100\n",
      "10000/10000 [==============================] - 4s 377us/step - loss: 0.2596 - accuracy: 0.8926 - val_loss: 0.4635 - val_accuracy: 0.8290\n",
      "Epoch 92/100\n",
      "10000/10000 [==============================] - 4s 377us/step - loss: 0.2566 - accuracy: 0.8902 - val_loss: 0.4816 - val_accuracy: 0.8200\n",
      "Epoch 93/100\n",
      "10000/10000 [==============================] - 4s 378us/step - loss: 0.2580 - accuracy: 0.8915 - val_loss: 0.4686 - val_accuracy: 0.8210\n",
      "Epoch 94/100\n",
      "10000/10000 [==============================] - 4s 379us/step - loss: 0.2554 - accuracy: 0.8896 - val_loss: 0.4615 - val_accuracy: 0.8230\n",
      "Epoch 95/100\n",
      "10000/10000 [==============================] - 4s 377us/step - loss: 0.2567 - accuracy: 0.8928 - val_loss: 0.4859 - val_accuracy: 0.8260\n",
      "Epoch 96/100\n",
      "10000/10000 [==============================] - 4s 377us/step - loss: 0.2566 - accuracy: 0.8920 - val_loss: 0.4724 - val_accuracy: 0.8250\n",
      "Epoch 97/100\n",
      "10000/10000 [==============================] - 4s 377us/step - loss: 0.2527 - accuracy: 0.8941 - val_loss: 0.4633 - val_accuracy: 0.8210\n",
      "Epoch 98/100\n",
      "10000/10000 [==============================] - 4s 376us/step - loss: 0.2500 - accuracy: 0.8966 - val_loss: 0.5179 - val_accuracy: 0.8160\n",
      "Epoch 99/100\n",
      "10000/10000 [==============================] - 4s 376us/step - loss: 0.2496 - accuracy: 0.8970 - val_loss: 0.4950 - val_accuracy: 0.8250\n",
      "Epoch 100/100\n",
      "10000/10000 [==============================] - 4s 375us/step - loss: 0.2539 - accuracy: 0.8917 - val_loss: 0.4730 - val_accuracy: 0.8270\n"
     ]
    }
   ],
   "source": [
    "history = model.fit(x=[inputs_train,questions_train],\n",
    "                    y=answers_train,\n",
    "                    batch_size=32,\n",
    "                    epochs=100,\n",
    "                    validation_data=([inputs_test,questions_test],answers_test))"
   ]
  },
  {
   "cell_type": "code",
   "execution_count": 35,
   "metadata": {},
   "outputs": [
    {
     "name": "stdout",
     "output_type": "stream",
     "text": [
      "dict_keys(['val_loss', 'val_accuracy', 'loss', 'accuracy'])\n"
     ]
    },
    {
     "data": {
      "image/png": "[encoded data removed]",
      "text/plain": [
       "<Figure size 432x288 with 1 Axes>"
      ]
     },
     "metadata": {
      "needs_background": "light"
     },
     "output_type": "display_data"
    }
   ],
   "source": [
    "print(history.history.keys())\n",
    "\n",
    "# summarize history for accuracy\n",
    "plt.plot(history.history['accuracy'])\n",
    "plt.plot(history.history['val_accuracy'])\n",
    "plt.title('model accuracy')\n",
    "plt.ylabel('accuracy')\n",
    "plt.xlabel('epoch')\n",
    "plt.legend(['train', 'test'], loc='upper left')\n",
    "plt.show()"
   ]
  },
  {
   "cell_type": "code",
   "execution_count": 34,
   "metadata": {},
   "outputs": [],
   "source": [
    "#saving the model\n",
    "model.save(\"100_epochs.h5\")"
   ]
  },
  {
   "cell_type": "code",
   "execution_count": 36,
   "metadata": {},
   "outputs": [],
   "source": [
    "# getting predictions for test set\n",
    "predictions = model.predict(([inputs_test, questions_test]))"
   ]
  },
  {
   "cell_type": "code",
   "execution_count": 37,
   "metadata": {},
   "outputs": [
    {
     "data": {
      "text/plain": [
       "story       Mary got the milk there . John moved to the be...\n",
       "question                             Is John in the kitchen ?\n",
       "answer                                                     no\n",
       "Name: 0, dtype: object"
      ]
     },
     "execution_count": 37,
     "metadata": {},
     "output_type": "execute_result"
    }
   ],
   "source": [
    "test_df.iloc[0]"
   ]
  },
  {
   "cell_type": "code",
   "execution_count": 38,
   "metadata": {},
   "outputs": [
    {
     "name": "stdout",
     "output_type": "stream",
     "text": [
      "Predicted answer is:  no\n",
      "Probability of the answer:  0.9998734\n"
     ]
    }
   ],
   "source": [
    "# generating a prediction from model for first story/question/answer (test_df.iloc[0])\n",
    "val_max = np.argmax(predictions[0])\n",
    "\n",
    "for key, val in word_index.items():\n",
    "    if val == val_max:\n",
    "        k = key\n",
    "\n",
    "print(\"Predicted answer is: \", k)\n",
    "print(\"Probability of the answer: \", predictions[0][val_max])"
   ]
  },
  {
   "cell_type": "code",
   "execution_count": 39,
   "metadata": {},
   "outputs": [
    {
     "data": {
      "text/plain": [
       "['Mary',\n",
       " 'left',\n",
       " 'the',\n",
       " 'bedroom',\n",
       " '.',\n",
       " 'John',\n",
       " 'dropped',\n",
       " 'the',\n",
       " 'football',\n",
       " 'in',\n",
       " 'the',\n",
       " 'hallway',\n",
       " '.']"
      ]
     },
     "execution_count": 39,
     "metadata": {},
     "output_type": "execute_result"
    }
   ],
   "source": [
    "# for testing our own cases, we must stick to the current vocabulary\n",
    "\n",
    "my_story = \"Mary left the bedroom . John dropped the football in the hallway .\"\n",
    "my_story.split() # punctuation is seperated as in format as it was trained on"
   ]
  },
  {
   "cell_type": "code",
   "execution_count": 40,
   "metadata": {},
   "outputs": [
    {
     "data": {
      "text/plain": [
       "['Is', 'the', 'football', 'in', 'the', 'bedroom', '?']"
      ]
     },
     "execution_count": 40,
     "metadata": {},
     "output_type": "execute_result"
    }
   ],
   "source": [
    "my_question = \"Is the football in the bedroom ?\"\n",
    "my_question.split()"
   ]
  },
  {
   "cell_type": "code",
   "execution_count": 41,
   "metadata": {},
   "outputs": [],
   "source": [
    "# creating test cases. same format as our data (tuple)\n",
    "my_data = [(my_story.split(),my_question.split(),'no')]"
   ]
  },
  {
   "cell_type": "code",
   "execution_count": 42,
   "metadata": {},
   "outputs": [
    {
     "data": {
      "text/html": [
       "<div>\n",
       "<style scoped>\n",
       "    .dataframe tbody tr th:only-of-type {\n",
       "        vertical-align: middle;\n",
       "    }\n",
       "\n",
       "    .dataframe tbody tr th {\n",
       "        vertical-align: top;\n",
       "    }\n",
       "\n",
       "    .dataframe thead th {\n",
       "        text-align: right;\n",
       "    }\n",
       "</style>\n",
       "<table border=\"1\" class=\"dataframe\">\n",
       "  <thead>\n",
       "    <tr style=\"text-align: right;\">\n",
       "      <th></th>\n",
       "      <th>story</th>\n",
       "      <th>question</th>\n",
       "      <th>answer</th>\n",
       "    </tr>\n",
       "  </thead>\n",
       "  <tbody>\n",
       "    <tr>\n",
       "      <td>0</td>\n",
       "      <td>Mary left the bedroom . John dropped the footb...</td>\n",
       "      <td>Is the football in the bedroom ?</td>\n",
       "      <td>no</td>\n",
       "    </tr>\n",
       "  </tbody>\n",
       "</table>\n",
       "</div>"
      ],
      "text/plain": [
       "                                               story  \\\n",
       "0  Mary left the bedroom . John dropped the footb...   \n",
       "\n",
       "                           question answer  \n",
       "0  Is the football in the bedroom ?     no  "
      ]
     },
     "execution_count": 42,
     "metadata": {},
     "output_type": "execute_result"
    }
   ],
   "source": [
    "my_dict = {\"story\":[' '.join(tp[0]) for tp in my_data],\n",
    "           \"question\":[' '.join(tp[1]) for tp in my_data],\n",
    "           \"answer\":[tp[2] for tp in my_data]}\n",
    "\n",
    "my_df = pd.DataFrame(my_dict)\n",
    "my_df.head()"
   ]
  },
  {
   "cell_type": "code",
   "execution_count": 43,
   "metadata": {},
   "outputs": [],
   "source": [
    "my_story , my_question = compute_story_and_questions(my_df,tokenizer)\n",
    "my_answer = compute_answer(my_df)"
   ]
  },
  {
   "cell_type": "code",
   "execution_count": 44,
   "metadata": {},
   "outputs": [
    {
     "data": {
      "text/plain": [
       "array([[ 0,  0,  0,  0,  0,  0,  0,  0,  0,  0,  0,  0,  0,  0,  0,  0,\n",
       "         0,  0,  0,  0,  0,  0,  0,  0,  0,  0,  0,  0,  0,  0,  0,  0,\n",
       "         0,  0,  0,  0,  0,  0,  0,  0,  0,  0,  0,  0,  0,  0,  0,  0,\n",
       "         0,  0,  0,  0,  0,  0,  0,  0,  0,  0,  0,  0,  0,  0,  0,  0,\n",
       "         0,  0,  0,  0,  0,  0,  0,  0,  0,  0,  0,  0,  0,  0,  0,  0,\n",
       "         0,  0,  0,  0,  0,  0,  0,  0,  0,  0,  0,  0,  0,  0,  0,  0,\n",
       "         0,  0,  0,  0,  0,  0,  0,  0,  0,  0,  0,  0,  0,  0,  0,  0,\n",
       "         0,  0,  0,  0,  0,  0,  0,  0,  0,  0,  0,  0,  0,  0,  0,  0,\n",
       "         0,  0,  0,  0,  0,  0,  0,  0,  0,  0,  0,  0,  0,  0,  0,  1,\n",
       "        33,  4,  9,  6, 25, 34,  4, 22, 11,  4, 12,  6]])"
      ]
     },
     "execution_count": 44,
     "metadata": {},
     "output_type": "execute_result"
    }
   ],
   "source": [
    "my_story"
   ]
  },
  {
   "cell_type": "code",
   "execution_count": 45,
   "metadata": {},
   "outputs": [
    {
     "data": {
      "text/plain": [
       "array([[ 4, 22, 11,  4,  9, 13]])"
      ]
     },
     "execution_count": 45,
     "metadata": {},
     "output_type": "execute_result"
    }
   ],
   "source": [
    "my_question"
   ]
  },
  {
   "cell_type": "code",
   "execution_count": 46,
   "metadata": {},
   "outputs": [
    {
     "name": "stdout",
     "output_type": "stream",
     "text": [
      "Predicted answer is:  no\n",
      "Probability of the answer:  0.9998734\n"
     ]
    }
   ],
   "source": [
    "my_prediction = model.predict(([my_story, my_question]))\n",
    "\n",
    "val_max = np.argmax(my_prediction[0])\n",
    "\n",
    "for key, val in word_index.items():\n",
    "    if val == val_max:\n",
    "        k = key\n",
    "\n",
    "print(\"Predicted answer is: \", k)\n",
    "print(\"Probability of the answer: \", predictions[0][val_max])"
   ]
  },
  {
   "cell_type": "code",
   "execution_count": null,
   "metadata": {},
   "outputs": [],
   "source": []
  }
 ],
 "metadata": {
  "kernelspec": {
   "display_name": "Python 3",
   "language": "python",
   "name": "python3"
  },
  "language_info": {
   "codemirror_mode": {
    "name": "ipython",
    "version": 3
   },
   "file_extension": ".py",
   "mimetype": "text/x-python",
   "name": "python",
   "nbconvert_exporter": "python",
   "pygments_lexer": "ipython3",
   "version": "3.7.4"
  }
 },
 "nbformat": 4,
 "nbformat_minor": 4
}
